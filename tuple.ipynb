{
 "cells": [
  {
   "cell_type": "code",
   "execution_count": 1,
   "id": "c0f8fec9-3085-4ca1-8cc8-49cbb8ae48ba",
   "metadata": {},
   "outputs": [],
   "source": [
    "tuple_a = (175, \"Tony\")"
   ]
  },
  {
   "cell_type": "code",
   "execution_count": 2,
   "id": "97f6b228-82f3-42cc-aecd-d0a269b872ef",
   "metadata": {},
   "outputs": [
    {
     "data": {
      "text/plain": [
       "(175, 'Tony')"
      ]
     },
     "execution_count": 2,
     "metadata": {},
     "output_type": "execute_result"
    }
   ],
   "source": [
    "tuple_a"
   ]
  },
  {
   "cell_type": "code",
   "execution_count": 3,
   "id": "59668f4f-57f9-463b-86ee-a4d5554d9215",
   "metadata": {},
   "outputs": [
    {
     "data": {
      "text/plain": [
       "175"
      ]
     },
     "execution_count": 3,
     "metadata": {},
     "output_type": "execute_result"
    }
   ],
   "source": [
    "tuple_a[0]"
   ]
  },
  {
   "cell_type": "code",
   "execution_count": 4,
   "id": "e173320d-c459-437a-b549-5cbd3ce18768",
   "metadata": {},
   "outputs": [
    {
     "ename": "TypeError",
     "evalue": "'tuple' object does not support item assignment",
     "output_type": "error",
     "traceback": [
      "\u001b[1;31m---------------------------------------------------------------------------\u001b[0m",
      "\u001b[1;31mTypeError\u001b[0m                                 Traceback (most recent call last)",
      "Input \u001b[1;32mIn [4]\u001b[0m, in \u001b[0;36m<cell line: 1>\u001b[1;34m()\u001b[0m\n\u001b[1;32m----> 1\u001b[0m \u001b[43mtuple_a\u001b[49m\u001b[43m[\u001b[49m\u001b[38;5;241;43m0\u001b[39;49m\u001b[43m]\u001b[49m \u001b[38;5;241m=\u001b[39m \u001b[38;5;241m178\u001b[39m\n",
      "\u001b[1;31mTypeError\u001b[0m: 'tuple' object does not support item assignment"
     ]
    }
   ],
   "source": [
    "tuple_a[0] = 178"
   ]
  },
  {
   "cell_type": "code",
   "execution_count": null,
   "id": "23aaf837-fc6d-4da1-8052-7698212205af",
   "metadata": {},
   "outputs": [],
   "source": []
  },
  {
   "cell_type": "code",
   "execution_count": null,
   "id": "6b46afc2-4cb9-4390-9faf-e8ab90009fc3",
   "metadata": {},
   "outputs": [],
   "source": []
  },
  {
   "cell_type": "code",
   "execution_count": 35,
   "id": "9ea68a51-5995-4aab-a097-49aba14feff2",
   "metadata": {},
   "outputs": [],
   "source": [
    "student_height = [175, 178, 165, 160] #從保健室資料庫\n",
    "student_name = [\"Andy\", \"Tony\", \"Judy\", \"May\"] # 學務處依照座號來\n"
   ]
  },
  {
   "cell_type": "code",
   "execution_count": 5,
   "id": "bbd5b6eb-0a6c-4eff-9bad-8be169bccf86",
   "metadata": {},
   "outputs": [
    {
     "data": {
      "text/plain": [
       "[(175, 'Andy'), (178, 'Tony'), (165, 'Judy'), (160, 'May')]"
      ]
     },
     "execution_count": 5,
     "metadata": {},
     "output_type": "execute_result"
    }
   ],
   "source": [
    "# data_a = (student_height[0], student_name[0])\n",
    "# data_b = (student_height[1], student_name[1])\n",
    "# data_c = (student_height[2], student_name[2])\n",
    "# data_d = (student_height[3], student_name[3])\n",
    "\n",
    "# list_tuples = list()\n",
    "# list_tuples.append(data_a)\n",
    "# list_tuples.append(data_b)\n",
    "# list_tuples.append(data_c)\n",
    "# list_tuples.append(data_d)\n",
    "# list_tuples"
   ]
  },
  {
   "cell_type": "markdown",
   "id": "49b61299-a281-40a0-909a-4925fcee75ee",
   "metadata": {
    "tags": []
   },
   "source": [
    "### Zip way"
   ]
  },
  {
   "cell_type": "code",
   "execution_count": 22,
   "id": "5204db41-d653-4d9a-8133-73ad69b7cbfd",
   "metadata": {},
   "outputs": [],
   "source": [
    "student_height = [175, 178, 165, 160] #從保健室資料庫\n",
    "student_weight = [75, 78, 65, 60] #從保健室資料庫\n",
    "student_name = [\"Andy\", \"Tony\", \"Judy\", \"May\"] # 學務處依照座號來\n",
    "\n",
    "tuples_zip_generator = zip(student_name, student_height, student_weight)"
   ]
  },
  {
   "cell_type": "code",
   "execution_count": 23,
   "id": "573ad0fd-ea1b-48d8-9730-07b3476c264e",
   "metadata": {},
   "outputs": [
    {
     "data": {
      "text/plain": [
       "[('Andy', 175, 75), ('Tony', 178, 78), ('Judy', 165, 65), ('May', 160, 60)]"
      ]
     },
     "execution_count": 23,
     "metadata": {},
     "output_type": "execute_result"
    }
   ],
   "source": [
    "list_from_zip_generator = list(tuples_zip_generator)\n",
    "list_from_zip_generator"
   ]
  },
  {
   "cell_type": "code",
   "execution_count": 24,
   "id": "3b9ad044",
   "metadata": {},
   "outputs": [],
   "source": [
    "list_from_zip_generator = sorted(\n",
    "    list_from_zip_generator, \n",
    "    key=lambda element: element[2],\n",
    "    reverse=False\n",
    ") "
   ]
  },
  {
   "cell_type": "code",
   "execution_count": 25,
   "id": "a796a367-03b2-4f6f-8e71-dbca1b7576ef",
   "metadata": {},
   "outputs": [
    {
     "data": {
      "text/plain": [
       "[('May', 160, 60), ('Judy', 165, 65), ('Andy', 175, 75), ('Tony', 178, 78)]"
      ]
     },
     "execution_count": 25,
     "metadata": {},
     "output_type": "execute_result"
    }
   ],
   "source": [
    "list_from_zip_generator"
   ]
  },
  {
   "cell_type": "markdown",
   "id": "2030fa98-8db2-4d5f-96e5-f76a37ee5a1e",
   "metadata": {
    "jp-MarkdownHeadingCollapsed": true,
    "tags": []
   },
   "source": [
    "### For-loop way"
   ]
  },
  {
   "cell_type": "code",
   "execution_count": 22,
   "id": "d5c5bde3-fcd4-4d73-a30c-fc78e718c0e7",
   "metadata": {},
   "outputs": [
    {
     "data": {
      "text/plain": [
       "4"
      ]
     },
     "execution_count": 22,
     "metadata": {},
     "output_type": "execute_result"
    }
   ],
   "source": [
    "len(student_height)"
   ]
  },
  {
   "cell_type": "code",
   "execution_count": 23,
   "id": "99d49b2b-f2f0-43e0-833f-59f67c723ee2",
   "metadata": {},
   "outputs": [],
   "source": [
    "idx_list = [0, 1, 2, 3]"
   ]
  },
  {
   "cell_type": "code",
   "execution_count": 25,
   "id": "a34ea72d-a8de-4fae-b1fc-0fa3d4d7474c",
   "metadata": {},
   "outputs": [],
   "source": [
    "tuples_from_for_loop = list()\n",
    "for index in idx_list:\n",
    "    tuples_from_for_loop.append(\n",
    "        (student_height[index], student_name[index]))\n",
    "tuples_from_for_loop"
   ]
  },
  {
   "cell_type": "code",
   "execution_count": 28,
   "id": "4a669034-acb6-4dc8-9f4d-d8dd5754750b",
   "metadata": {},
   "outputs": [
    {
     "data": {
      "text/plain": [
       "[(175, 'Andy'), (178, 'Tony'), (165, 'Judy'), (160, 'May')]"
      ]
     },
     "execution_count": 28,
     "metadata": {},
     "output_type": "execute_result"
    }
   ],
   "source": [
    "tuples_from_for_loop = list()\n",
    "for index in range(len(student_height)):\n",
    "    tuples_from_for_loop.append(\n",
    "        (student_height[index], student_name[index]))\n",
    "    \n",
    "tuples_from_for_loop"
   ]
  },
  {
   "cell_type": "markdown",
   "id": "93b2b37a-1b58-419d-987b-9ee133b4395f",
   "metadata": {
    "tags": []
   },
   "source": [
    "### List Comprehension"
   ]
  },
  {
   "cell_type": "code",
   "execution_count": 36,
   "id": "188f03b2-5e41-4e6e-a9fc-3571aac813cb",
   "metadata": {},
   "outputs": [
    {
     "data": {
      "text/plain": [
       "[(175, 'Andy'), (178, 'Tony'), (165, 'Judy'), (160, 'May')]"
      ]
     },
     "execution_count": 36,
     "metadata": {},
     "output_type": "execute_result"
    }
   ],
   "source": [
    "tuples_from_conprehension = [\n",
    "    (student_height[index], student_name[index]) \n",
    "    for index in range(len(student_height))\n",
    "]\n",
    "\n",
    "tuples_from_conprehension"
   ]
  },
  {
   "cell_type": "code",
   "execution_count": null,
   "id": "832ba602-5d44-480c-8636-59ebd68c071c",
   "metadata": {},
   "outputs": [],
   "source": []
  }
 ],
 "metadata": {
  "kernelspec": {
   "display_name": "Python 3 (ipykernel)",
   "language": "python",
   "name": "python3"
  },
  "language_info": {
   "codemirror_mode": {
    "name": "ipython",
    "version": 3
   },
   "file_extension": ".py",
   "mimetype": "text/x-python",
   "name": "python",
   "nbconvert_exporter": "python",
   "pygments_lexer": "ipython3",
   "version": "3.8.5"
  }
 },
 "nbformat": 4,
 "nbformat_minor": 5
}
