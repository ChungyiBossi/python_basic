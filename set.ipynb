{
 "cells": [
  {
   "cell_type": "code",
   "execution_count": 1,
   "id": "a06169bc-7aba-4ddb-a320-ea8b00aa4efa",
   "metadata": {},
   "outputs": [],
   "source": [
    "list_a = [1, 2, 3, 4, 5]"
   ]
  },
  {
   "cell_type": "code",
   "execution_count": 2,
   "id": "bd9a55a6-a97b-495f-abcd-c526e86fcb25",
   "metadata": {},
   "outputs": [],
   "source": [
    "set_a = {1, 2, 3, 4, 5}"
   ]
  },
  {
   "cell_type": "code",
   "execution_count": 4,
   "id": "528bf055-6f97-4a2e-986b-e814b7940a69",
   "metadata": {},
   "outputs": [],
   "source": [
    "set_a = {1, 2, 2, 3, 4}"
   ]
  },
  {
   "cell_type": "code",
   "execution_count": 6,
   "id": "a10f8d3f-ffb9-402b-94fb-c4aecf6b32b6",
   "metadata": {},
   "outputs": [],
   "source": [
    "set_a = set(list_a)"
   ]
  },
  {
   "cell_type": "code",
   "execution_count": 7,
   "id": "af9fe3f0-6d45-4182-a6f9-2b9cfbf68de7",
   "metadata": {},
   "outputs": [
    {
     "data": {
      "text/plain": [
       "{1, 2, 3, 4, 5}"
      ]
     },
     "execution_count": 7,
     "metadata": {},
     "output_type": "execute_result"
    }
   ],
   "source": [
    "set_a"
   ]
  },
  {
   "cell_type": "code",
   "execution_count": 8,
   "id": "d657e570-3b96-40ed-9653-fedcb44b0232",
   "metadata": {},
   "outputs": [],
   "source": [
    "list_b = [1, 2, 2, 3, 3, 4]"
   ]
  },
  {
   "cell_type": "code",
   "execution_count": 9,
   "id": "f569c2bc-1775-47b5-8055-6086a1b9c38b",
   "metadata": {},
   "outputs": [],
   "source": [
    "set_b = set(list_b)"
   ]
  },
  {
   "cell_type": "code",
   "execution_count": 10,
   "id": "f25387ac-2d82-4f78-afd8-641a5f3e12f1",
   "metadata": {},
   "outputs": [
    {
     "data": {
      "text/plain": [
       "{1, 2, 3, 4}"
      ]
     },
     "execution_count": 10,
     "metadata": {},
     "output_type": "execute_result"
    }
   ],
   "source": [
    "set_b"
   ]
  },
  {
   "cell_type": "code",
   "execution_count": 11,
   "id": "9913c3a4-0c65-4c0e-a9b8-68bfa4a70d21",
   "metadata": {},
   "outputs": [
    {
     "data": {
      "text/plain": [
       "[1, 2, 3, 4]"
      ]
     },
     "execution_count": 11,
     "metadata": {},
     "output_type": "execute_result"
    }
   ],
   "source": [
    "list_c = list(set_b)\n",
    "list_c"
   ]
  },
  {
   "cell_type": "code",
   "execution_count": 23,
   "id": "6ddf604d-d1f7-4da3-b76a-ad316c921545",
   "metadata": {},
   "outputs": [],
   "source": [
    "set_d = {1, 2, 3, 4}\n",
    "set_not_equal_to_three = {i for i in set_d if i != 3}"
   ]
  },
  {
   "cell_type": "code",
   "execution_count": 24,
   "id": "a7e5507c-cce4-4e32-a5f1-618e483eb044",
   "metadata": {},
   "outputs": [
    {
     "data": {
      "text/plain": [
       "{1, 2, 4}"
      ]
     },
     "execution_count": 24,
     "metadata": {},
     "output_type": "execute_result"
    }
   ],
   "source": [
    "set_not_equal_to_three"
   ]
  },
  {
   "cell_type": "code",
   "execution_count": 14,
   "id": "3ba13122-b995-4cc2-87c4-c235cd554e69",
   "metadata": {},
   "outputs": [],
   "source": [
    "set_e.add(5)"
   ]
  },
  {
   "cell_type": "code",
   "execution_count": 15,
   "id": "965c42ea-bfc3-4f21-8d2d-acc25f2a7868",
   "metadata": {},
   "outputs": [
    {
     "data": {
      "text/plain": [
       "{1, 2, 4, 5}"
      ]
     },
     "execution_count": 15,
     "metadata": {},
     "output_type": "execute_result"
    }
   ],
   "source": [
    "set_e"
   ]
  },
  {
   "cell_type": "code",
   "execution_count": 16,
   "id": "38aeec63-486e-48d4-ab33-096ea69da701",
   "metadata": {},
   "outputs": [
    {
     "data": {
      "text/plain": [
       "{1, 2, 3, 4}"
      ]
     },
     "execution_count": 16,
     "metadata": {},
     "output_type": "execute_result"
    }
   ],
   "source": [
    "set_d"
   ]
  },
  {
   "cell_type": "code",
   "execution_count": 19,
   "id": "3e3b6479-a05e-4eb3-a39c-5498c01e9af3",
   "metadata": {},
   "outputs": [],
   "source": [
    "set_f = set_d.intersection(set_e)"
   ]
  },
  {
   "cell_type": "code",
   "execution_count": 20,
   "id": "ab478a1c-ad2f-434b-a897-8829f8728ccf",
   "metadata": {},
   "outputs": [
    {
     "data": {
      "text/plain": [
       "{1, 2, 4}"
      ]
     },
     "execution_count": 20,
     "metadata": {},
     "output_type": "execute_result"
    }
   ],
   "source": [
    "set_f"
   ]
  },
  {
   "cell_type": "code",
   "execution_count": 21,
   "id": "ecc6dd50-1611-4ca4-8ed1-4670e009af1a",
   "metadata": {},
   "outputs": [],
   "source": [
    "set_g = set_d.union(set_e)"
   ]
  },
  {
   "cell_type": "code",
   "execution_count": 22,
   "id": "254f8d73-20f5-49b8-b6ae-cbb95b4e1d3f",
   "metadata": {},
   "outputs": [
    {
     "data": {
      "text/plain": [
       "{1, 2, 3, 4, 5}"
      ]
     },
     "execution_count": 22,
     "metadata": {},
     "output_type": "execute_result"
    }
   ],
   "source": [
    "set_g"
   ]
  },
  {
   "cell_type": "code",
   "execution_count": null,
   "id": "6b9a47f8-fd3e-4b7c-82f0-72d59c0896a6",
   "metadata": {},
   "outputs": [],
   "source": []
  }
 ],
 "metadata": {
  "kernelspec": {
   "display_name": "Python 3 (ipykernel)",
   "language": "python",
   "name": "python3"
  },
  "language_info": {
   "codemirror_mode": {
    "name": "ipython",
    "version": 3
   },
   "file_extension": ".py",
   "mimetype": "text/x-python",
   "name": "python",
   "nbconvert_exporter": "python",
   "pygments_lexer": "ipython3",
   "version": "3.8.5"
  }
 },
 "nbformat": 4,
 "nbformat_minor": 5
}
