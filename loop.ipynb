{
 "cells": [
  {
   "cell_type": "code",
   "execution_count": 1,
   "id": "7cbcc8e3-51f8-4d93-a9f6-6080ed82eab0",
   "metadata": {},
   "outputs": [],
   "source": [
    "import numpy as np"
   ]
  },
  {
   "cell_type": "code",
   "execution_count": null,
   "id": "24af38eb-6459-49e1-a511-febce2462c1b",
   "metadata": {},
   "outputs": [],
   "source": [
    "## previous sample, use list comprehension\n",
    "even_list = [i for i in data if i % 2 == 0]\n",
    "print(\"even_list: \", even_list)\n",
    "odd_list = [i for i in data if i % 2 == 1]\n",
    "print(\"odd_list: \", odd_list)\n",
    "triple_list = [i for i in data if i % 3 == 0]\n",
    "print(\"triple_list: \", triple_list)\n",
    "\n",
    "trifive_list = [\n",
    "    i for i in data \n",
    "    if i % 3 == 0 or i % 5 == 0\n",
    "]\n",
    "print(\"trifive_list: \", trifive_list)"
   ]
  },
  {
   "cell_type": "markdown",
   "id": "a3528e1e-4733-46dd-96ed-999c50250789",
   "metadata": {},
   "source": [
    "## For loop"
   ]
  },
  {
   "cell_type": "code",
   "execution_count": 11,
   "id": "090708e9-42fe-406b-a47e-23ce849405c2",
   "metadata": {
    "tags": []
   },
   "outputs": [
    {
     "name": "stdout",
     "output_type": "stream",
     "text": [
      "0 20\n",
      "1 one 21\n",
      "2 two 22\n",
      "3 two 24\n",
      "4 two 25\n",
      "5 two 26\n",
      "6 29\n",
      "7 30\n",
      "8 31\n",
      "9 35\n",
      "10 41\n",
      "11 44\n",
      "12 45\n",
      "13 46\n",
      "14 49\n"
     ]
    }
   ],
   "source": [
    "## for + range\n",
    "\n",
    "data_dict = {\n",
    "    \"1\": \"one\",\n",
    "    \"2\": \"two\",\n",
    "    \"3\": \"two\",\n",
    "    \"4\": \"two\",\n",
    "    \"5\": \"two\"\n",
    "}\n",
    "for index in range(len(data)):\n",
    "    if str(index) in data_dict:\n",
    "        print(index, data_dict[str(index)], data[index])\n",
    "    else:\n",
    "        print(index, data[index])"
   ]
  },
  {
   "cell_type": "code",
   "execution_count": 9,
   "id": "d585bfdb-3761-43ed-b46a-7cd93256fd2d",
   "metadata": {
    "collapsed": true,
    "jupyter": {
     "outputs_hidden": true
    },
    "tags": []
   },
   "outputs": [
    {
     "name": "stdout",
     "output_type": "stream",
     "text": [
      "2 22\n",
      "4 25\n",
      "6 29\n",
      "8 31\n",
      "10 41\n",
      "12 45\n",
      "For end\n"
     ]
    }
   ],
   "source": [
    "## for + range(A,B,C)\n",
    "for index in range(2, len(data)-2, 2):\n",
    "    print(index, data[index])\n",
    "print(\"For end\")"
   ]
  },
  {
   "cell_type": "code",
   "execution_count": 3,
   "id": "00641942-dd8d-4e34-a72a-33d457c59a35",
   "metadata": {
    "tags": []
   },
   "outputs": [
    {
     "name": "stdout",
     "output_type": "stream",
     "text": [
      "20\n",
      "24\n",
      "25\n",
      "26\n",
      "27\n",
      "28\n",
      "29\n",
      "32\n",
      "33\n",
      "35\n",
      "38\n",
      "39\n",
      "42\n",
      "45\n",
      "48\n"
     ]
    }
   ],
   "source": [
    "## for element in series\n",
    "for i in data:\n",
    "    print(i)"
   ]
  },
  {
   "cell_type": "code",
   "execution_count": 15,
   "id": "c936bc85-47fe-48f6-a680-ec88040facb6",
   "metadata": {
    "collapsed": true,
    "jupyter": {
     "outputs_hidden": true
    },
    "tags": []
   },
   "outputs": [
    {
     "name": "stdout",
     "output_type": "stream",
     "text": [
      "0 20\n",
      "1 21\n",
      "2 22\n",
      "3 24\n",
      "4 25\n",
      "5 26\n",
      "6 29\n",
      "7 30\n",
      "8 31\n",
      "9 35\n",
      "10 41\n",
      "11 44\n",
      "12 45\n",
      "13 46\n",
      "14 49\n"
     ]
    }
   ],
   "source": [
    "## enumerate\n",
    "for index, i in enumerate(data):\n",
    "    print(index, i)"
   ]
  },
  {
   "cell_type": "code",
   "execution_count": 16,
   "id": "4d39b54e-16bc-4413-8620-9019c86f95ce",
   "metadata": {},
   "outputs": [
    {
     "name": "stdout",
     "output_type": "stream",
     "text": [
      "[20, 22, 24, 26, 30, 44, 46]\n",
      "[21, 25, 29, 31, 35, 41, 45, 49]\n",
      "[21, 24, 30, 45]\n",
      "[20, 21, 24, 25, 30, 35, 45]\n"
     ]
    }
   ],
   "source": [
    "# re-implement previous sample\n",
    "even_list = list()\n",
    "odd_list = list()\n",
    "tri_list = list()\n",
    "trifive_list = list()\n",
    "\n",
    "for i in data:\n",
    "    if i % 2 == 0:\n",
    "        even_list.append(i)\n",
    "    else:\n",
    "        odd_list.append(i)\n",
    "\n",
    "    if i % 3 == 0:\n",
    "        tri_list.append(i)\n",
    "        trifive_list.append(i)\n",
    "    elif i % 5 == 0:\n",
    "        trifive_list.append(i)\n",
    "        \n",
    "print(even_list)\n",
    "print(odd_list)\n",
    "print(tri_list)\n",
    "print(trifive_list)"
   ]
  },
  {
   "cell_type": "code",
   "execution_count": 8,
   "id": "2aad5531-8e9e-4c76-b92c-9aabb649f17e",
   "metadata": {},
   "outputs": [
    {
     "data": {
      "text/plain": [
       "array([58, 82, 41, 39, 68, 59, 65, 99, 89, 20, 30, 65, 53, 37, 43, 54, 61,\n",
       "       43, 49, 42,  7, 53, 57, 74, 52, 13, 55, 41, 59, 76, 14, 59, 85,  3,\n",
       "       55, 80, 73, 64, 33, 43, 70, 70, 78, 24, 82, 37, 29, 56, 90, 49, 63,\n",
       "       39, 92, 24, 75, 56, 41, 98, 28, 69, 53, 85, 87, 23,  1, 59, 88, 98,\n",
       "       68, 61, 30, 78, 84, 50, 69,  9, 19, 63, 17, 15, 84, 14, 15,  7, 78,\n",
       "       77, 15, 74, 95, 52, 14, 99, 73, 17,  0, 56, 29, 77, 66, 18])"
      ]
     },
     "execution_count": 8,
     "metadata": {},
     "output_type": "execute_result"
    }
   ],
   "source": [
    "data"
   ]
  },
  {
   "cell_type": "code",
   "execution_count": 27,
   "id": "6a470ee5-815f-419d-abb0-5480795d1604",
   "metadata": {},
   "outputs": [
    {
     "data": {
      "text/plain": [
       "[20, 21, 22, 24]"
      ]
     },
     "execution_count": 27,
     "metadata": {},
     "output_type": "execute_result"
    }
   ],
   "source": [
    "data[:4]"
   ]
  },
  {
   "cell_type": "code",
   "execution_count": 9,
   "id": "12cde853-2530-4f6e-80c8-c56e17a9cfba",
   "metadata": {},
   "outputs": [
    {
     "name": "stdout",
     "output_type": "stream",
     "text": [
      "[22, 23, 28, 29, 31, 33, 34, 35, 38, 42, 45, 47, 48, 49] 14\n"
     ]
    }
   ],
   "source": [
    "## genrate data\n",
    "data = np.random.randint(20, 50, 20)\n",
    "data = sorted(set(data))\n",
    "print(data, len(data))\n"
   ]
  },
  {
   "cell_type": "code",
   "execution_count": 19,
   "id": "4a52c70e-3f2e-427e-b9d5-d6b99a2d31c3",
   "metadata": {
    "tags": []
   },
   "outputs": [
    {
     "name": "stdout",
     "output_type": "stream",
     "text": [
      "=====================================\n",
      "index 0\n",
      "Index is divided by 3. Continue Loop\n",
      "=====================================\n",
      "index 1\n",
      "sub list: [23]\n",
      "quotient list: [0]\n",
      "=====================================\n",
      "=====================================\n",
      "index 2\n",
      "sub list: [23, 28]\n",
      "quotient list: [1, 0]\n",
      "=====================================\n",
      "=====================================\n",
      "index 3\n",
      "Index is divided by 3. Continue Loop\n",
      "=====================================\n",
      "index 4\n",
      "sub list: [23, 28, 31]\n",
      "quotient list: [3, 0, 3]\n",
      "=====================================\n",
      "=====================================\n",
      "index 5\n",
      "sub list: [23, 28, 31, 33]\n",
      "quotient list: [3, 3, 1, 3]\n",
      "=====================================\n",
      "=====================================\n",
      "index 6\n",
      "Index is divided by 3. Continue Loop\n",
      "=====================================\n",
      "index 7\n",
      "sub list: [23, 28, 31, 33, 35]\n",
      "quotient list: [2, 0, 3, 5, 0]\n",
      "=====================================\n",
      "=====================================\n",
      "index 8\n",
      "sub list: [23, 28, 31, 33, 35, 38]\n",
      "quotient list: [7, 4, 7, 1, 3, 6]\n",
      "=====================================\n",
      "=====================================\n",
      "index 9\n",
      "Index is divided by 3. Continue Loop\n",
      "=====================================\n",
      "index 10\n",
      "sub list: [23, 28, 31, 33, 35, 38, 45]\n",
      "quotient list: [3, 8, 1, 3, 5, 8, 5]\n",
      "=====================================\n",
      "=====================================\n",
      "index 11\n",
      "sub list: [23, 28, 31, 33, 35, 38, 45, 47]\n",
      "quotient list: [1, 6, 9, 0, 2, 5, 1, 3]\n",
      "=====================================\n",
      "=====================================\n",
      "index 12\n",
      "Index is divided by 3. Continue Loop\n",
      "=====================================\n",
      "index 13\n",
      "sub list: [23, 28, 31, 33, 35, 38, 45, 47, 49]\n",
      "quotient list: [10, 2, 5, 7, 9, 12, 6, 8, 10]\n",
      "=====================================\n",
      "sum_list:  [23, 51, 82, 115, 150, 188, 233, 280, 329]\n"
     ]
    }
   ],
   "source": [
    "# nested for loop\n",
    "filtered_data = list()\n",
    "sum_list = list()\n",
    "for idx, element in enumerate(data):\n",
    "    print(\"=====================================\")\n",
    "    print(\"index\", idx)\n",
    "    ## continue\n",
    "    if idx % 3 == 0:\n",
    "        print(\"Index is divided by 3. Continue Loop\")\n",
    "        continue\n",
    "    \n",
    "    filtered_data.append(data[idx])\n",
    "    ##### equivalent to ######################################\n",
    "    # print(data[:idx+1])\n",
    "    sub_list = list()\n",
    "    sum_number = 0\n",
    "    for sub_element in filtered_data:\n",
    "        sub_list.append(sub_element)\n",
    "        sum_number += sub_element\n",
    "    sum_list.append(sum_number)\n",
    "    print(\"sub list:\", sub_list)\n",
    "    ##########################################################\n",
    "    ## break\n",
    "    # if sum_number > 280:\n",
    "    #     break\n",
    "    print(\"=====================================\")\n",
    "print(\"sum_list: \", sum_list)\n",
    "    "
   ]
  },
  {
   "cell_type": "markdown",
   "id": "1490e56d-306e-4023-9090-4fd6db87aa0a",
   "metadata": {},
   "source": [
    "## While loop"
   ]
  },
  {
   "cell_type": "code",
   "execution_count": 23,
   "id": "7714b0fc-eff3-446e-b5d0-f0a28477f6b9",
   "metadata": {
    "tags": []
   },
   "outputs": [
    {
     "data": {
      "text/plain": [
       "array([7, 9, 5, 4, 6, 3, 9, 5, 8, 4, 2, 4, 6, 4, 9, 6, 7, 2, 9, 7, 5, 9,\n",
       "       2, 8, 9, 1, 6, 8, 7, 3, 7, 4, 6, 2, 2, 3, 6, 6, 1, 2, 4, 8, 1, 1,\n",
       "       8, 2, 3, 7, 9, 5, 5, 7, 4, 5, 7, 2, 1, 7, 9, 8, 7, 5, 2, 2, 1, 5,\n",
       "       6, 5, 7, 7, 5, 3, 9, 5, 6, 7, 2, 7, 4, 4, 2, 8, 6, 2, 1, 6, 4, 1,\n",
       "       4, 9, 3, 9, 7, 8, 5, 3, 3, 2, 8, 3])"
      ]
     },
     "execution_count": 23,
     "metadata": {},
     "output_type": "execute_result"
    }
   ],
   "source": [
    "data = np.random.randint(1, 10, 100)\n",
    "data"
   ]
  },
  {
   "cell_type": "code",
   "execution_count": 24,
   "id": "38f986ea-e7cb-40ad-92b8-2930243ada04",
   "metadata": {},
   "outputs": [
    {
     "name": "stdout",
     "output_type": "stream",
     "text": [
      "Reach loop limit 10000\n",
      "While loop end. 57157\n",
      "CPU times: total: 0 ns\n",
      "Wall time: 3.99 ms\n"
     ]
    }
   ],
   "source": [
    "%%time\n",
    "sum_number = 0\n",
    "loop_count = 0\n",
    "while sum_number < 50000000:\n",
    "    # statement\n",
    "    sum_number += data[sum_number%100]\n",
    "    loop_count += 1\n",
    "    if loop_count > 10000:\n",
    "        print(\"Reach loop limit 10000\")\n",
    "        break\n",
    "\n",
    "print(\"While loop end.\", sum_number)\n",
    "    "
   ]
  },
  {
   "cell_type": "markdown",
   "id": "16707588-31ec-4d54-9ce3-9b2bf85548c2",
   "metadata": {},
   "source": [
    "## Sample"
   ]
  },
  {
   "cell_type": "code",
   "execution_count": 26,
   "id": "7aa95161-cd9c-4d43-8d6a-3ff30d3453d1",
   "metadata": {},
   "outputs": [
    {
     "name": "stdout",
     "output_type": "stream",
     "text": [
      "* \n",
      "* * \n",
      "* * * \n",
      "* * * * \n",
      "* * * * * \n",
      "* * * * * * \n",
      "* * * * * * * \n",
      "* * * * * * * * \n",
      "* * * * * * * * * \n"
     ]
    }
   ],
   "source": [
    "## print triangle\n",
    "# *\n",
    "# * *\n",
    "# * * *\n",
    "level = range(1, 10)\n",
    "for i in level:\n",
    "    print(\"* \"*i)"
   ]
  },
  {
   "cell_type": "code",
   "execution_count": 41,
   "id": "292908aa-8e4c-49fd-adbd-4a0f8a5ccfc7",
   "metadata": {},
   "outputs": [
    {
     "name": "stdout",
     "output_type": "stream",
     "text": [
      "                           *                            \n",
      "                         * * *                          \n",
      "                       * * * * *                        \n",
      "                     * * * * * * *                      \n",
      "                   * * * * * * * * *                    \n",
      "                 * * * * * * * * * * *                  \n",
      "               * * * * * * * * * * * * *                \n",
      "             * * * * * * * * * * * * * * *              \n",
      "           * * * * * * * * * * * * * * * * *            \n",
      "         * * * * * * * * * * * * * * * * * * *          \n",
      "       * * * * * * * * * * * * * * * * * * * * *        \n",
      "     * * * * * * * * * * * * * * * * * * * * * * *      \n",
      "   * * * * * * * * * * * * * * * * * * * * * * * * *    \n",
      " * * * * * * * * * * * * * * * * * * * * * * * * * * *  \n"
     ]
    }
   ],
   "source": [
    "#     *\n",
    "#   * * *\n",
    "# * * * * *\n",
    "level = range(1, 15)\n",
    "max_level = max(level)\n",
    "\n",
    "for i in level:\n",
    "    width = 2*i - 1\n",
    "    print(\"  \"*(max_level-i), \"* \"*width ,\"  \"*(max_level-i))"
   ]
  },
  {
   "cell_type": "code",
   "execution_count": 36,
   "id": "b627d6c7-fa7c-4c77-b0c2-d3d1fa7551f2",
   "metadata": {},
   "outputs": [
    {
     "name": "stdout",
     "output_type": "stream",
     "text": [
      "                 * \n",
      "               * * \n",
      "             * * * \n",
      "           * * * * \n",
      "         * * * * * \n",
      "       * * * * * * \n",
      "     * * * * * * * \n",
      "   * * * * * * * * \n",
      " * * * * * * * * * \n"
     ]
    }
   ],
   "source": [
    "#    *\n",
    "#  * *\n",
    "#* * *\n",
    "\n",
    "level = range(1, 10)\n",
    "max_level = max(level)\n",
    "for i in level:\n",
    "    print(\"  \"*(max_level-i), \"* \"*i)"
   ]
  },
  {
   "cell_type": "code",
   "execution_count": 43,
   "id": "e41dc475-6591-4e3d-947c-243b2cd94e13",
   "metadata": {},
   "outputs": [
    {
     "data": {
      "text/plain": [
       "array([252, 672, 360, 614, 301, 863, 583, 820, 355, 444])"
      ]
     },
     "execution_count": 43,
     "metadata": {},
     "output_type": "execute_result"
    }
   ],
   "source": [
    "## sample : squre list\n",
    "number_list = np.random.randint(1, 1000, 10)\n",
    "number_list"
   ]
  },
  {
   "cell_type": "code",
   "execution_count": 45,
   "id": "0d4745a1-1fca-4a59-8cdb-4ecba4619108",
   "metadata": {},
   "outputs": [
    {
     "data": {
      "text/plain": [
       "[63504, 451584, 129600, 376996, 90601, 744769, 339889, 672400, 126025, 197136]"
      ]
     },
     "execution_count": 45,
     "metadata": {},
     "output_type": "execute_result"
    }
   ],
   "source": [
    "## Q1, square the element\n",
    "square_list = list()\n",
    "for num in number_list:\n",
    "    square_list.append(num*num)\n",
    "square_list"
   ]
  },
  {
   "cell_type": "code",
   "execution_count": 47,
   "id": "c19ef872-7eae-489a-9cae-48c6d104b44f",
   "metadata": {},
   "outputs": [
    {
     "data": {
      "text/plain": [
       "[63504,\n",
       " 515088,\n",
       " 644688,\n",
       " 1021684,\n",
       " 1112285,\n",
       " 1857054,\n",
       " 2196943,\n",
       " 2869343,\n",
       " 2995368,\n",
       " 3192504]"
      ]
     },
     "execution_count": 47,
     "metadata": {},
     "output_type": "execute_result"
    }
   ],
   "source": [
    "## Q2, sum the square as element\n",
    "sum_square = 0\n",
    "sum_square_list = list()\n",
    "for num in number_list:\n",
    "    sum_square += num*num\n",
    "    sum_square_list.append(sum_square)\n",
    "sum_square_list"
   ]
  },
  {
   "cell_type": "code",
   "execution_count": 48,
   "id": "51b9c02f-6fcd-4fba-af77-d9caf5d3c6a3",
   "metadata": {},
   "outputs": [
    {
     "data": {
      "text/plain": [
       "3192504"
      ]
     },
     "execution_count": 48,
     "metadata": {},
     "output_type": "execute_result"
    }
   ],
   "source": [
    "sum(square_list)"
   ]
  },
  {
   "cell_type": "code",
   "execution_count": null,
   "id": "b98b40f9-2093-460a-8424-ab460039c0b6",
   "metadata": {},
   "outputs": [],
   "source": []
  }
 ],
 "metadata": {
  "kernelspec": {
   "display_name": "Python 3 (ipykernel)",
   "language": "python",
   "name": "python3"
  },
  "language_info": {
   "codemirror_mode": {
    "name": "ipython",
    "version": 3
   },
   "file_extension": ".py",
   "mimetype": "text/x-python",
   "name": "python",
   "nbconvert_exporter": "python",
   "pygments_lexer": "ipython3",
   "version": "3.8.5"
  }
 },
 "nbformat": 4,
 "nbformat_minor": 5
}
