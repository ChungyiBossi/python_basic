{
 "cells": [
  {
   "cell_type": "markdown",
   "id": "b814d154-c912-4d4e-bf19-52dc3cab8c83",
   "metadata": {},
   "source": [
    "#### Conditional Operator"
   ]
  },
  {
   "cell_type": "code",
   "execution_count": 1,
   "id": "78dc03ac-35a8-4215-bdbd-cea8e7a39126",
   "metadata": {},
   "outputs": [],
   "source": [
    "a = 29\n",
    "b = 17"
   ]
  },
  {
   "cell_type": "code",
   "execution_count": 2,
   "id": "d6c2f2da-6461-4bd3-9203-f3459515fea4",
   "metadata": {},
   "outputs": [
    {
     "data": {
      "text/plain": [
       "True"
      ]
     },
     "execution_count": 2,
     "metadata": {},
     "output_type": "execute_result"
    }
   ],
   "source": [
    "a > b"
   ]
  },
  {
   "cell_type": "code",
   "execution_count": 3,
   "id": "9edfbc18-8be9-4729-9bcc-adddafdbd60e",
   "metadata": {},
   "outputs": [
    {
     "data": {
      "text/plain": [
       "False"
      ]
     },
     "execution_count": 3,
     "metadata": {},
     "output_type": "execute_result"
    }
   ],
   "source": [
    "a < b"
   ]
  },
  {
   "cell_type": "code",
   "execution_count": 4,
   "id": "b7eac12d-7b0f-40ff-9a3a-31b638f22764",
   "metadata": {
    "tags": []
   },
   "outputs": [
    {
     "data": {
      "text/plain": [
       "(False, True)"
      ]
     },
     "execution_count": 4,
     "metadata": {},
     "output_type": "execute_result"
    }
   ],
   "source": [
    "a == b, a != b "
   ]
  },
  {
   "cell_type": "raw",
   "id": "8beee7db-4e10-4263-bb2c-4cb0b059e0c8",
   "metadata": {},
   "source": [
    "if (........):\n",
    "    run code....\n",
    "else:\n",
    "    run code....."
   ]
  },
  {
   "cell_type": "code",
   "execution_count": 7,
   "id": "54c1557e-4a35-4560-9424-af5fb5e589bb",
   "metadata": {},
   "outputs": [
    {
     "name": "stdout",
     "output_type": "stream",
     "text": [
      "A=29 is smaller than B=30\n",
      "HEREEEE!!!! 31 30\n"
     ]
    }
   ],
   "source": [
    "## simple if-else\n",
    "\n",
    "b = a + 1 \n",
    "if a > b:\n",
    "    print(f\"A={a} is greater than B={b}\")\n",
    "else:\n",
    "    print(f\"A={a} is smaller than B={b}\")\n",
    "    a = b + 1\n",
    "\n",
    "print(\"HEREEEE!!!!\", a, b)"
   ]
  },
  {
   "cell_type": "code",
   "execution_count": 19,
   "id": "1da4253a-4934-4959-b00f-cdac73f5a95a",
   "metadata": {},
   "outputs": [
    {
     "data": {
      "text/plain": [
       "48"
      ]
     },
     "execution_count": 19,
     "metadata": {},
     "output_type": "execute_result"
    }
   ],
   "source": [
    "import random\n"
   ]
  },
  {
   "cell_type": "code",
   "execution_count": 17,
   "id": "1dca5024-0a0c-4abe-ab61-4d787bff1bcc",
   "metadata": {},
   "outputs": [],
   "source": [
    "import numpy as np\n",
    "np.random.randint(20, 50, 1)[0]"
   ]
  },
  {
   "cell_type": "code",
   "execution_count": 21,
   "id": "2b8cbd20-daa8-425c-9cd8-cdcc6d436bce",
   "metadata": {},
   "outputs": [
    {
     "name": "stdout",
     "output_type": "stream",
     "text": [
      "c*3 is 30, d=46 is bigger\n",
      "d=46 is biggest! Which e is 30.\n"
     ]
    }
   ],
   "source": [
    "## nested if-else\n",
    "\n",
    "c = 10\n",
    "d = random.randint(20, 50) # 20~50的隨機數\n",
    "e = 30\n",
    "if c * 3 <= d:\n",
    "    print(f\"c*3 is {c*3}, d={d} is bigger\") \n",
    "    if d < e:\n",
    "        print(f\"e={e} is biggest!\")\n",
    "    elif d == e:\n",
    "        print(f\"d={d} is equal to e={e}!\")\n",
    "    else:\n",
    "        # if ....\n",
    "        print(f\"d={d} is biggest! Which e is {e}.\")\n",
    "else:\n",
    "    print(f\"c*3 is {c*3}, d={d} is smaller\")\n",
    "    d = random.randint(20, 50)\n",
    "    print(d)\n",
    "\n"
   ]
  },
  {
   "cell_type": "code",
   "execution_count": 22,
   "id": "111bf516-3f39-422e-9409-5e2780b89f84",
   "metadata": {},
   "outputs": [
    {
     "name": "stdout",
     "output_type": "stream",
     "text": [
      "c*3 is 30, d=46 is bigger\n"
     ]
    }
   ],
   "source": [
    "# print(f\"c*3 is {c*3}, d={d} is bigger\") \n",
    "# print(\"c*3 is {}, d={} is bigger\".format(c*3, d))"
   ]
  },
  {
   "cell_type": "code",
   "execution_count": 35,
   "id": "ee9cbc08-ae14-49ab-918b-07ab01be7174",
   "metadata": {},
   "outputs": [
    {
     "name": "stdout",
     "output_type": "stream",
     "text": [
      "36 26 35\n",
      "x < z\n"
     ]
    }
   ],
   "source": [
    "x = random.randint(30, 40)\n",
    "y = random.randint(20, 50)\n",
    "z = random.randint(20, 60)\n",
    "\n",
    "# Chain-condition\n",
    "# if x < y < z:\n",
    "#     print(\"x < y < z:\", x, y, z)\n",
    "# else:\n",
    "#     print(\"x y z:\", x, y, z)\n",
    "\n",
    "# And operator\n",
    "# if x < y and x < z:\n",
    "#     print(x, y, z)\n",
    "# else:\n",
    "#     print(\"Failed.\")\n",
    "    \n",
    "    \n",
    "# Save condtion as variable/object\n",
    "condition_1 = x < y\n",
    "condition_2 = x > z\n",
    "if condition_1 or condition_2:\n",
    "    print(x, y, z)\n",
    "    if condition_1:\n",
    "        print(\"x < y\")\n",
    "    elif condition_2:\n",
    "        print(\"x < z\")\n",
    "else:\n",
    "    print(\"Failed.\")\n",
    "      \n"
   ]
  },
  {
   "cell_type": "code",
   "execution_count": 39,
   "id": "3c8e42f7-3787-4296-bdf1-bea7d19e644f",
   "metadata": {},
   "outputs": [
    {
     "name": "stdout",
     "output_type": "stream",
     "text": [
      "List_a is List_b\n",
      "Is a list.\n",
      "Is a list list.\n"
     ]
    }
   ],
   "source": [
    "list_a = [1, 2, 3]\n",
    "list_b = list_a\n",
    "\n",
    "if list_a is list_b:\n",
    "    # print(\"Is a list.\")\n",
    "    print(\"List_a is List_b\")\n",
    "    \n",
    "if type(list_a) == type(list()):\n",
    "    print(\"Is a list.\")\n",
    "    \n",
    "if type(list_a) is list:\n",
    "    print(\"Is a list list.\")"
   ]
  },
  {
   "cell_type": "code",
   "execution_count": 45,
   "id": "31ba0c5d-2032-40aa-98eb-78c25a72e69f",
   "metadata": {},
   "outputs": [
    {
     "name": "stdout",
     "output_type": "stream",
     "text": [
      "No Class!!\n"
     ]
    }
   ],
   "source": [
    "# 有下雨，就不去上課\n",
    "# 天氣太熱或下雨，就不去上課\n",
    "# 心情不好而且還下雨，就不去上課\n",
    "\n",
    "is_raining = True\n",
    "is_hot = True\n",
    "is_happy = True\n",
    "\n",
    "# if is_raining == True:\n",
    "#     print(\"No Class!!\")\n",
    "\n",
    "# if is_hot == True or is_raining == True:\n",
    "#     print(\"No Class!!\")\n",
    "    \n",
    "# if is_happy == False and is_raining:\n",
    "#     print(\"No Class!!\")\n",
    "    \n",
    "if is_hot:\n",
    "    print(\"No Class!!\")\n",
    "elif is_raining:  # is_happy == False\n",
    "    print(\"No Class!!\")"
   ]
  },
  {
   "cell_type": "code",
   "execution_count": 49,
   "id": "d54d9024-dffa-408f-a3c3-9474fc1d5666",
   "metadata": {},
   "outputs": [
    {
     "name": "stdout",
     "output_type": "stream",
     "text": [
      "[20, 21, 23, 25, 27, 28, 32, 36, 38, 41, 49]\n",
      "even_list:  [20, 28, 32, 36, 38]\n",
      "odd_list:  [21, 23, 25, 27, 41, 49]\n",
      "triple_list:  [21, 27, 36]\n",
      "trifive_list:  [20, 21, 25, 27, 36]\n"
     ]
    }
   ],
   "source": [
    "data = np.random.randint(20, 50, 20)\n",
    "data = sorted(set(data))\n",
    "print(data)\n",
    "\n",
    "even_list = [i for i in data if i % 2 == 0]\n",
    "print(\"even_list: \", even_list)\n",
    "odd_list = [i for i in data if i % 2 == 1]\n",
    "print(\"odd_list: \", odd_list)\n",
    "triple_list = [i for i in data if i % 3 == 0]\n",
    "print(\"triple_list: \", triple_list)\n",
    "\n",
    "trifive_list = [\n",
    "    i for i in data \n",
    "    if i % 3 == 0 or i % 5 == 0\n",
    "]\n",
    "print(\"trifive_list: \", trifive_list)"
   ]
  },
  {
   "cell_type": "code",
   "execution_count": null,
   "id": "048c9d6f-ee31-4799-9fa9-889c29d54331",
   "metadata": {},
   "outputs": [],
   "source": []
  }
 ],
 "metadata": {
  "kernelspec": {
   "display_name": "Python 3 (ipykernel)",
   "language": "python",
   "name": "python3"
  },
  "language_info": {
   "codemirror_mode": {
    "name": "ipython",
    "version": 3
   },
   "file_extension": ".py",
   "mimetype": "text/x-python",
   "name": "python",
   "nbconvert_exporter": "python",
   "pygments_lexer": "ipython3",
   "version": "3.8.5"
  }
 },
 "nbformat": 4,
 "nbformat_minor": 5
}
