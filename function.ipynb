{
 "cells": [
  {
   "cell_type": "code",
   "execution_count": 66,
   "id": "e3db107d-8646-45bd-b3c8-446badbaeb42",
   "metadata": {},
   "outputs": [],
   "source": [
    "\n",
    "daily_waiter = \"ChungYi\"\n",
    "\n",
    "def welcome_customer(customer_name=\"\", waiter=daily_waiter):\n",
    "\n",
    "    if customer_name:\n",
    "        print(f\"Welcome, {customer_name}!\")\n",
    "        print(f\"My name is {waiter}, what's your day?\")\n",
    "        return True\n",
    "    else:\n",
    "        ## Find a sample\n",
    "        print(\"May I have your name?\")\n",
    "        change_daily_waiter()\n",
    "        print(f\"This is {waiter}, may i help you?\")\n",
    "        return False\n",
    "    \n",
    "def change_daily_waiter(who=\"Manager\"):\n",
    "    # 宣告一個變數, global代表他全域皆可見, 若已存在則指為同一個\n",
    "    # 盡量不要使用\n",
    "    global daily_waiter\n",
    "    daily_waiter = who\n"
   ]
  },
  {
   "cell_type": "code",
   "execution_count": 67,
   "id": "1b26ac29-1cf8-4a18-906d-fb3831cf7ad8",
   "metadata": {},
   "outputs": [
    {
     "name": "stdout",
     "output_type": "stream",
     "text": [
      "May I have your name?\n",
      "This is Manager, may i help you?\n",
      "daily waiter:  Manager\n",
      "Welcome, Jack!\n",
      "My name is Manager, what's your day?\n",
      "\n",
      "Welcome, May!\n",
      "My name is Manager, what's your day?\n"
     ]
    },
    {
     "data": {
      "text/plain": [
       "True"
      ]
     },
     "execution_count": 67,
     "metadata": {},
     "output_type": "execute_result"
    }
   ],
   "source": [
    "welcome_customer()\n",
    "print(\"daily waiter: \", daily_waiter)\n",
    "\n",
    "welcome_customer(\"Jack\")\n",
    "print()\n",
    "welcome_customer(\"May\")"
   ]
  },
  {
   "cell_type": "code",
   "execution_count": 64,
   "id": "dfcefd8f-ea06-4237-b8c5-3d733ab89e6e",
   "metadata": {},
   "outputs": [
    {
     "data": {
      "text/plain": [
       "'Manager'"
      ]
     },
     "execution_count": 64,
     "metadata": {},
     "output_type": "execute_result"
    }
   ],
   "source": [
    "daily_waiter"
   ]
  },
  {
   "cell_type": "code",
   "execution_count": 32,
   "id": "422e1f68-09b9-43fe-b308-38b410cca6df",
   "metadata": {},
   "outputs": [],
   "source": [
    "import math\n"
   ]
  },
  {
   "cell_type": "code",
   "execution_count": 38,
   "id": "4df1908c-4506-45a7-ae36-7e9e09a03c40",
   "metadata": {},
   "outputs": [],
   "source": [
    "##　算第三邊\n",
    "def calculate_triangle_third_edge(edge_1, edge_2, is_third_edge_long_edge=True): \n",
    "    if is_third_edge_long_edge:\n",
    "        return math.sqrt(edge_1*edge_1 + edge_2*edge_2)\n",
    "    else:\n",
    "        return math.sqrt(abs(edge_1*edge_1 - edge_2*edge_2))"
   ]
  },
  {
   "cell_type": "code",
   "execution_count": 41,
   "id": "eb8d1d14-57f6-4feb-b5e0-d6c77ce8ff6a",
   "metadata": {},
   "outputs": [
    {
     "data": {
      "text/plain": [
       "2.6457513110645907"
      ]
     },
     "execution_count": 41,
     "metadata": {},
     "output_type": "execute_result"
    }
   ],
   "source": [
    "calculate_triangle_third_edge(3, 4, False)"
   ]
  },
  {
   "cell_type": "code",
   "execution_count": 40,
   "id": "5d208466-5ac5-4ebc-8ac2-0e74bc4a76c7",
   "metadata": {},
   "outputs": [
    {
     "data": {
      "text/plain": [
       "36.05551275463989"
      ]
     },
     "execution_count": 40,
     "metadata": {},
     "output_type": "execute_result"
    }
   ],
   "source": [
    "calculate_triangle_third_edge(20, 30)"
   ]
  },
  {
   "cell_type": "markdown",
   "id": "a6c1b141-dd37-42e6-8bf3-e496dce99e21",
   "metadata": {},
   "source": [
    "## args, kwargs"
   ]
  },
  {
   "cell_type": "code",
   "execution_count": 74,
   "id": "a4955238-6e8e-49bb-b54d-d2b0279098f3",
   "metadata": {},
   "outputs": [],
   "source": [
    "def func(x, y):\n",
    "    print(x)"
   ]
  },
  {
   "cell_type": "code",
   "execution_count": 76,
   "id": "0098dd1f-b996-4929-8fec-8a884ad553c7",
   "metadata": {},
   "outputs": [
    {
     "ename": "TypeError",
     "evalue": "func() missing 1 required positional argument: 'y'",
     "output_type": "error",
     "traceback": [
      "\u001b[1;31m---------------------------------------------------------------------------\u001b[0m",
      "\u001b[1;31mTypeError\u001b[0m                                 Traceback (most recent call last)",
      "Input \u001b[1;32mIn [76]\u001b[0m, in \u001b[0;36m<cell line: 1>\u001b[1;34m()\u001b[0m\n\u001b[1;32m----> 1\u001b[0m \u001b[43mfunc\u001b[49m\u001b[43m(\u001b[49m\u001b[38;5;241;43m1\u001b[39;49m\u001b[43m)\u001b[49m\n",
      "\u001b[1;31mTypeError\u001b[0m: func() missing 1 required positional argument: 'y'"
     ]
    }
   ],
   "source": [
    "func(1)"
   ]
  },
  {
   "cell_type": "code",
   "execution_count": 86,
   "id": "baadc0d4-6bcd-4a28-820b-fd51509e6e6e",
   "metadata": {},
   "outputs": [],
   "source": [
    "def use_args_kwargs(*args, **kwargs):\n",
    "    for arg in args:\n",
    "        print(\"arg: \", arg)\n",
    "    for k, v in kwargs.items():\n",
    "        print(\"kwargs: \", k, v)"
   ]
  },
  {
   "cell_type": "code",
   "execution_count": 85,
   "id": "02f0dd66-991c-45e0-891a-e415bf0624b1",
   "metadata": {},
   "outputs": [
    {
     "name": "stdout",
     "output_type": "stream",
     "text": [
      "arg:  1\n",
      "arg:  2\n",
      "arg:  3\n",
      "arg:  4\n"
     ]
    }
   ],
   "source": [
    "args = [1, 2, 3, 4]\n",
    "use_args_kwargs(*args)"
   ]
  },
  {
   "cell_type": "code",
   "execution_count": 81,
   "id": "0b15749e-d942-4b55-9919-f573d62ca29a",
   "metadata": {},
   "outputs": [
    {
     "name": "stdout",
     "output_type": "stream",
     "text": [
      "kwargs:  k1 v1\n",
      "kwargs:  k2 v2\n"
     ]
    }
   ],
   "source": [
    "dict_arg = {\n",
    "    \"k1\": \"v1\",\n",
    "    \"k2\": \"v2\"\n",
    "}\n",
    "\n",
    "use_args_kwargs(**dict_arg)"
   ]
  },
  {
   "cell_type": "code",
   "execution_count": 82,
   "id": "97c295b1-af3c-4177-881d-16daeea00c7a",
   "metadata": {},
   "outputs": [
    {
     "name": "stdout",
     "output_type": "stream",
     "text": [
      "arg:  1\n",
      "arg:  2\n",
      "arg:  3\n",
      "arg:  4\n",
      "kwargs:  k1 v1\n",
      "kwargs:  k2 v2\n"
     ]
    }
   ],
   "source": [
    "use_args_kwargs(*args, **dict_arg)"
   ]
  },
  {
   "cell_type": "code",
   "execution_count": null,
   "id": "1e594ca3-d1d7-4590-a8ce-b4f910d36552",
   "metadata": {},
   "outputs": [],
   "source": []
  }
 ],
 "metadata": {
  "kernelspec": {
   "display_name": "Python 3 (ipykernel)",
   "language": "python",
   "name": "python3"
  },
  "language_info": {
   "codemirror_mode": {
    "name": "ipython",
    "version": 3
   },
   "file_extension": ".py",
   "mimetype": "text/x-python",
   "name": "python",
   "nbconvert_exporter": "python",
   "pygments_lexer": "ipython3",
   "version": "3.8.5"
  }
 },
 "nbformat": 4,
 "nbformat_minor": 5
}
