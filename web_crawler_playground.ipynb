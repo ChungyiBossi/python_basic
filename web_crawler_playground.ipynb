{
 "cells": [
  {
   "cell_type": "code",
   "execution_count": 9,
   "id": "fef03cea-a62a-4acd-b502-ac70b5850dc9",
   "metadata": {},
   "outputs": [],
   "source": [
    "from bs4 import BeautifulSoup"
   ]
  },
  {
   "cell_type": "markdown",
   "id": "54164d53-a9d8-4b9b-82cd-13a288e0e3db",
   "metadata": {},
   "source": [
    "## Basic"
   ]
  },
  {
   "cell_type": "code",
   "execution_count": 52,
   "id": "d0422f08-ce75-4023-b2ea-bf07e6abf9a1",
   "metadata": {},
   "outputs": [],
   "source": [
    "html_doc = \"\"\"\\\n",
    "<html>\n",
    "<head><title>The Dormouse's story</title></head>\n",
    "<body>\n",
    "<span class=\"title\">\n",
    "    <div class=\"title_content\">The Dormouse's story 1</div>\n",
    "    <div class=\"title_content_x\">The Dormouse's story 2</div>\n",
    "    <div class=\"title_content_x\">The Dormouse's story 3</div>\n",
    "    <div class=\"title_content\">The Dormouse's story 4</div>\n",
    "</span>\n",
    "\n",
    "<p class=\"story\">Once upon a time there were three little sisters; and their names were\n",
    "<a href=\"http://example.com/elsie\" class=\"sister\" id=\"link1\">Elsie</a>,\n",
    "<a href=\"http://example.com/lacie\" class=\"sister\" id=\"link2\">Lacie</a> and\n",
    "<a href=\"http://example.com/tillie\" class=\"sister\" id=\"link3\">Tillie</a>;\n",
    "and they lived at the bottom of a well.</p>\n",
    "\n",
    "<p class=\"story\">...</p>\n",
    "\"\"\"\n"
   ]
  },
  {
   "cell_type": "code",
   "execution_count": 53,
   "id": "58d69a39-ff5c-4d83-94d5-f955244aebf5",
   "metadata": {},
   "outputs": [],
   "source": [
    "soup = BeautifulSoup(html_doc)"
   ]
  },
  {
   "cell_type": "code",
   "execution_count": 55,
   "id": "0d6edf02-7305-40d8-a06f-e12e45952713",
   "metadata": {},
   "outputs": [
    {
     "data": {
      "text/plain": [
       "[<div class=\"title_content_x\">The Dormouse's story 2</div>,\n",
       " <div class=\"title_content_x\">The Dormouse's story 3</div>]"
      ]
     },
     "execution_count": 55,
     "metadata": {},
     "output_type": "execute_result"
    }
   ],
   "source": [
    "soup.span.find_all(\n",
    "    \"div\",\n",
    "    {\"class\": \"title_content_x\"}\n",
    ")"
   ]
  },
  {
   "cell_type": "code",
   "execution_count": 60,
   "id": "7d951a2f-2d76-44f4-8199-9fdbd4f39a3f",
   "metadata": {},
   "outputs": [
    {
     "name": "stdout",
     "output_type": "stream",
     "text": [
      "http://example.com/elsie ['sister'] Elsie\n",
      "http://example.com/lacie ['sister'] Lacie\n",
      "http://example.com/tillie ['sister'] Tillie\n"
     ]
    }
   ],
   "source": [
    "for a in soup.find_all(\"a\"):\n",
    "    print(a[\"href\"], a[\"class\"], a.string)"
   ]
  },
  {
   "cell_type": "markdown",
   "id": "f5143452-3efa-44be-8d44-73de627cf828",
   "metadata": {},
   "source": [
    "## Google News"
   ]
  },
  {
   "cell_type": "code",
   "execution_count": null,
   "id": "3650c863-7ffc-4c87-9e84-5e61723ee47b",
   "metadata": {},
   "outputs": [],
   "source": []
  },
  {
   "cell_type": "code",
   "execution_count": 62,
   "id": "8f93cb67-99af-485a-8ef2-14bc4d12674c",
   "metadata": {},
   "outputs": [],
   "source": [
    "import requests\n",
    "from pprint import pprint"
   ]
  },
  {
   "cell_type": "code",
   "execution_count": 104,
   "id": "9419d890-8d95-436b-9ca5-ec31a0c64bda",
   "metadata": {},
   "outputs": [],
   "source": [
    "url = \"https://news.google.com/topstories?hl=zh-TW&gl=TW&ceid=TW:zh-Hant\"\n",
    "\n",
    "result = requests.get(url)\n",
    "# pprint(result.text)"
   ]
  },
  {
   "cell_type": "code",
   "execution_count": 105,
   "id": "2681c734-299f-4b69-8121-dfff699cfde3",
   "metadata": {},
   "outputs": [],
   "source": [
    "# with open(\"./Google_news_20220906.html\", \"w\", encoding='UTF-8') as google_news_output:\n",
    "#     google_news_output.write(result.text)"
   ]
  },
  {
   "cell_type": "code",
   "execution_count": 106,
   "id": "575dc1a1-cca3-42c1-910e-2a69204e2dc6",
   "metadata": {},
   "outputs": [],
   "source": [
    "soup = BeautifulSoup(result.text)"
   ]
  },
  {
   "cell_type": "code",
   "execution_count": 107,
   "id": "96f5b1ef-f56e-4a7a-a2f0-27e2b9c869b1",
   "metadata": {},
   "outputs": [],
   "source": [
    "class_name = \"DY5T1d RZIKme\"\n",
    "r = soup.find_all(\"a\", {\"class\": class_name})"
   ]
  },
  {
   "cell_type": "code",
   "execution_count": 108,
   "id": "4173b0b2-13a3-4364-bb75-1242dadd1d82",
   "metadata": {},
   "outputs": [
    {
     "data": {
      "text/plain": [
       "30"
      ]
     },
     "execution_count": 108,
     "metadata": {},
     "output_type": "execute_result"
    }
   ],
   "source": [
    "len(r)"
   ]
  },
  {
   "cell_type": "code",
   "execution_count": 113,
   "id": "f67761da-dd59-4a92-b9f2-bb2c8ad52345",
   "metadata": {},
   "outputs": [],
   "source": [
    "prefix = \"https://news.google.com\"\n",
    "news_data_list = list()\n",
    "for element in r:\n",
    "    news_data_list.append(\n",
    "        {\n",
    "            \"title\": element.string,\n",
    "            \"url\": prefix + element['href'][1:]\n",
    "        }\n",
    "    )\n",
    "    # print(element.string)\n",
    "    # print(prefix + element['href'][1:])\n",
    "    # print()"
   ]
  },
  {
   "cell_type": "code",
   "execution_count": 163,
   "id": "90cc36b2-2c95-4e11-b116-23b70ee60396",
   "metadata": {},
   "outputs": [],
   "source": [
    "import jieba\n",
    "from collections import Counter"
   ]
  },
  {
   "cell_type": "code",
   "execution_count": 174,
   "id": "c4e83ee8-5e65-40ea-9677-cfbc2886bb7e",
   "metadata": {},
   "outputs": [
    {
     "name": "stdout",
     "output_type": "stream",
     "text": [
      "https://news.google.com/articles/CBMiOWh0dHBzOi8vbmV3cy5sdG4uY29tLnR3L25ld3Mvc29jaWV0eS9icmVha2luZ25ld3MvNDA0OTg2N9IBPWh0dHBzOi8vbmV3cy5sdG4uY29tLnR3L2FtcC9uZXdzL3NvY2lldHkvYnJlYWtpbmduZXdzLzQwNDk4Njc?hl=zh-TW&gl=TW&ceid=TW%3Azh-Hant\n",
      "〔記者闕敬倫／新北報導〕新北市永和區驚傳分屍案，54歲梁姓男子一週前突然失聯，梁男的社區大學同學張姓女子5日下午報案，警方上門赫然驚見梁男已遭殺害分屍，警方懷疑梁男的大哥痛下毒手，今下午在梁男二哥及五哥到兇殺現場招魂同時，梁男大哥在台北市羅斯福路三段244巷水源市場公車站牌落網，他坦承弒弟犯行，怒喊「錢不還我」。\n",
      "--------------------------------------------------\n",
      "請繼續往下閱讀...\n",
      "--------------------------------------------------\n",
      "梁男和大哥感情不睦，疑時常因金錢問題爭吵，並因此鬧上法庭，2020年、2021年曾對大哥提告恐嚇、妨害自由及毀損等罪。\n",
      "--------------------------------------------------\n",
      "梁姓死者平時有去社區大學進修，會與同學聊LINE、吃飯聚餐，上月30日晚間11點多，53歲張姓女同學傳訊息給梁男，不僅沒有回覆，也沒有已讀訊息，等到9月5日下午依然失聯，張女懷疑梁男發生意外，下午5點多前往永和警分局得和派出所報案協尋，沒想到梁男已在智光街公寓3樓住家遭遇不測。\n",
      "--------------------------------------------------\n",
      "今下午4時許，死者梁男的二哥及五哥到案發現場招魂，據了解，巧合的是，警方約在相同時間找到嫌疑人梁姓大哥，他在羅斯福路三段244巷前剛下公車時被警方埋伏逮獲；被問及是否犯下弒弟惡行，他當場坦承不諱，之後被警方帶返偵訊，怒稱弟弟「他借錢不還我」，詳情有待深入調查釐清。\n",
      "--------------------------------------------------\n"
     ]
    }
   ],
   "source": [
    "\n",
    "word_counter = Counter()\n",
    "for data in news_data_list[2:3]:\n",
    "    r = requests.get(data[\"url\"])\n",
    "    print(data[\"url\"])\n",
    "    \n",
    "    # ## Yahoo news\n",
    "    # soup = BeautifulSoup(r.text)\n",
    "    # paragraphs = soup.find(\"div\", {'class': \"caas-body\"}).find_all(\"p\")\n",
    "\n",
    "#     ## Chinatimes\n",
    "#     soup = BeautifulSoup(r.text)\n",
    "#     paragraphs = soup.find(\"div\", {\"class\": \"article-body\"}).find_all(\"p\")\n",
    "    \n",
    "    ## 自由時報\n",
    "    soup = BeautifulSoup(r.text)\n",
    "    paragraphs = soup.find(\"div\", {\"class\": \"text boxTitle boxText\"}).find_all(\"p\", recursive=False)\n",
    "    \n",
    "    ## Common\n",
    "    for para in paragraphs:\n",
    "        t = str(para.string).strip()\n",
    "        if t and t != \"None\":\n",
    "            print(t)\n",
    "            word_counter.update([w for w in jieba.cut(t)])\n",
    "            print(\"-\"*50)\n",
    "    "
   ]
  },
  {
   "cell_type": "code",
   "execution_count": 172,
   "id": "d5c554ed-8ca1-4148-88d0-d53b65ec06ba",
   "metadata": {},
   "outputs": [],
   "source": [
    "words_frequency = sorted(word_counter.items(), key=lambda x:x[1], reverse=True)"
   ]
  },
  {
   "cell_type": "code",
   "execution_count": 173,
   "id": "45581169-b25e-44a4-9803-e492be2a5ecc",
   "metadata": {},
   "outputs": [
    {
     "data": {
      "text/plain": [
       "[('，', 29),\n",
       " ('梁男', 5),\n",
       " ('下午', 5),\n",
       " ('警方', 5),\n",
       " ('大哥', 5),\n",
       " ('的', 4),\n",
       " ('男', 4),\n",
       " ('在', 4),\n",
       " ('他', 4),\n",
       " ('。', 4),\n",
       " ('梁姓', 3),\n",
       " ('5', 3),\n",
       " ('日', 3),\n",
       " ('已', 3),\n",
       " ('、', 3),\n",
       " ('被', 3),\n",
       " ('永和', 2),\n",
       " ('歲', 2),\n",
       " ('失聯', 2),\n",
       " ('社區', 2),\n",
       " ('大學', 2),\n",
       " ('同學', 2),\n",
       " ('張姓', 2),\n",
       " ('報案', 2),\n",
       " ('梁', 2),\n",
       " ('懷疑梁', 2),\n",
       " ('今', 2),\n",
       " ('二哥', 2),\n",
       " ('及五哥', 2),\n",
       " ('招魂', 2),\n",
       " ('三段', 2),\n",
       " ('244', 2),\n",
       " ('公車', 2),\n",
       " ('坦承', 2),\n",
       " ('弒弟', 2),\n",
       " ('「', 2),\n",
       " ('我', 2),\n",
       " ('」', 2),\n",
       " ('和', 2),\n",
       " ('上', 2),\n",
       " ('年', 2),\n",
       " ('死者', 2),\n",
       " ('有', 2),\n",
       " ('月', 2),\n",
       " ('點多', 2),\n",
       " ('沒', 2),\n",
       " ('〔', 1),\n",
       " ('記者', 1),\n",
       " ('闕敬倫', 1),\n",
       " ('／', 1),\n",
       " ('新北', 1),\n",
       " ('報導', 1),\n",
       " ('〕', 1),\n",
       " ('新北市', 1),\n",
       " ('區驚', 1),\n",
       " ('傳分', 1),\n",
       " ('屍案', 1),\n",
       " ('54', 1),\n",
       " ('男子', 1),\n",
       " ('一週前', 1),\n",
       " ('突然', 1),\n",
       " ('女子', 1),\n",
       " ('上門', 1),\n",
       " ('赫然', 1),\n",
       " ('驚見', 1),\n",
       " ('遭', 1),\n",
       " ('殺害', 1),\n",
       " ('分屍', 1),\n",
       " ('痛', 1),\n",
       " ('下毒手', 1),\n",
       " ('到', 1),\n",
       " ('兇', 1),\n",
       " ('殺', 1),\n",
       " ('現場', 1),\n",
       " ('同時', 1),\n",
       " ('台北市', 1),\n",
       " ('羅', 1),\n",
       " ('斯福路', 1),\n",
       " ('巷', 1),\n",
       " ('水源', 1),\n",
       " ('市場', 1),\n",
       " ('站牌', 1),\n",
       " ('落網', 1),\n",
       " ('犯行', 1),\n",
       " ('怒喊', 1),\n",
       " ('錢不還', 1),\n",
       " ('請', 1),\n",
       " ('繼續', 1),\n",
       " ('往下', 1),\n",
       " ('閱讀', 1),\n",
       " ('...', 1),\n",
       " ('感情', 1),\n",
       " ('不睦', 1),\n",
       " ('疑時常', 1),\n",
       " ('因金錢', 1),\n",
       " ('問題', 1),\n",
       " ('爭吵', 1),\n",
       " ('並', 1),\n",
       " ('因此', 1),\n",
       " ('鬧', 1),\n",
       " ('法庭', 1),\n",
       " ('2020', 1),\n",
       " ('2021', 1),\n",
       " ('曾', 1),\n",
       " ('對', 1),\n",
       " ('提告', 1),\n",
       " ('恐嚇', 1),\n",
       " ('妨害自由', 1),\n",
       " ('及毀', 1),\n",
       " ('損等罪', 1),\n",
       " ('平時', 1),\n",
       " ('去', 1),\n",
       " ('進修', 1),\n",
       " ('會', 1),\n",
       " ('與', 1),\n",
       " ('同學聊', 1),\n",
       " ('LINE', 1),\n",
       " ('吃', 1),\n",
       " ('飯', 1),\n",
       " ('聚餐', 1),\n",
       " ('30', 1),\n",
       " ('晚間', 1),\n",
       " ('11', 1),\n",
       " ('53', 1),\n",
       " ('女', 1),\n",
       " ('傳訊息', 1),\n",
       " ('給梁', 1),\n",
       " ('不僅', 1),\n",
       " ('沒有', 1),\n",
       " ('回覆', 1),\n",
       " ('也', 1),\n",
       " ('讀訊息', 1),\n",
       " ('等到', 1),\n",
       " ('9', 1),\n",
       " ('依然', 1),\n",
       " ('張女', 1),\n",
       " ('男發', 1),\n",
       " ('生意', 1),\n",
       " ('外', 1),\n",
       " ('前往', 1),\n",
       " ('警', 1),\n",
       " ('分局', 1),\n",
       " ('得', 1),\n",
       " ('派出所', 1),\n",
       " ('協尋', 1),\n",
       " ('想到', 1),\n",
       " ('智光', 1),\n",
       " ('街', 1),\n",
       " ('公寓', 1),\n",
       " ('3', 1),\n",
       " ('樓', 1),\n",
       " ('住家', 1),\n",
       " ('遭遇', 1),\n",
       " ('不測', 1),\n",
       " ('4', 1),\n",
       " ('時許', 1),\n",
       " ('到案', 1),\n",
       " ('發現場', 1),\n",
       " ('據', 1),\n",
       " ('了解', 1),\n",
       " ('巧合', 1),\n",
       " ('是', 1),\n",
       " ('約', 1),\n",
       " ('相同', 1),\n",
       " ('時間', 1),\n",
       " ('找到', 1),\n",
       " ('嫌疑人', 1),\n",
       " ('在羅斯福路', 1),\n",
       " ('巷前', 1),\n",
       " ('剛下', 1),\n",
       " ('時', 1),\n",
       " ('埋伏', 1),\n",
       " ('逮獲', 1),\n",
       " ('；', 1),\n",
       " ('問及', 1),\n",
       " ('是否', 1),\n",
       " ('犯下', 1),\n",
       " ('惡行', 1),\n",
       " ('當場', 1),\n",
       " ('不諱', 1),\n",
       " ('之', 1),\n",
       " ('後', 1),\n",
       " ('帶返', 1),\n",
       " ('偵訊', 1),\n",
       " ('怒稱', 1),\n",
       " ('弟弟', 1),\n",
       " ('借', 1),\n",
       " ('錢', 1),\n",
       " ('不還', 1),\n",
       " ('詳情', 1),\n",
       " ('有待', 1),\n",
       " ('深入', 1),\n",
       " ('調查', 1),\n",
       " ('釐', 1),\n",
       " ('清', 1)]"
      ]
     },
     "execution_count": 173,
     "metadata": {},
     "output_type": "execute_result"
    }
   ],
   "source": [
    "words_frequency"
   ]
  },
  {
   "cell_type": "code",
   "execution_count": null,
   "id": "87e9129e-02ae-404a-b709-8f06ecb0cc23",
   "metadata": {},
   "outputs": [],
   "source": []
  }
 ],
 "metadata": {
  "kernelspec": {
   "display_name": "Python 3 (ipykernel)",
   "language": "python",
   "name": "python3"
  },
  "language_info": {
   "codemirror_mode": {
    "name": "ipython",
    "version": 3
   },
   "file_extension": ".py",
   "mimetype": "text/x-python",
   "name": "python",
   "nbconvert_exporter": "python",
   "pygments_lexer": "ipython3",
   "version": "3.8.5"
  }
 },
 "nbformat": 4,
 "nbformat_minor": 5
}
