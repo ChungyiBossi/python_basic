{
 "cells": [
  {
   "cell_type": "code",
   "execution_count": 9,
   "id": "fef03cea-a62a-4acd-b502-ac70b5850dc9",
   "metadata": {},
   "outputs": [],
   "source": [
    "from bs4 import BeautifulSoup"
   ]
  },
  {
   "cell_type": "code",
   "execution_count": 52,
   "id": "d0422f08-ce75-4023-b2ea-bf07e6abf9a1",
   "metadata": {},
   "outputs": [],
   "source": [
    "html_doc = \"\"\"\\\n",
    "<html>\n",
    "<head><title>The Dormouse's story</title></head>\n",
    "<body>\n",
    "<span class=\"title\">\n",
    "    <div class=\"title_content\">The Dormouse's story 1</div>\n",
    "    <div class=\"title_content_x\">The Dormouse's story 2</div>\n",
    "    <div class=\"title_content_x\">The Dormouse's story 3</div>\n",
    "    <div class=\"title_content\">The Dormouse's story 4</div>\n",
    "</span>\n",
    "\n",
    "<p class=\"story\">Once upon a time there were three little sisters; and their names were\n",
    "<a href=\"http://example.com/elsie\" class=\"sister\" id=\"link1\">Elsie</a>,\n",
    "<a href=\"http://example.com/lacie\" class=\"sister\" id=\"link2\">Lacie</a> and\n",
    "<a href=\"http://example.com/tillie\" class=\"sister\" id=\"link3\">Tillie</a>;\n",
    "and they lived at the bottom of a well.</p>\n",
    "\n",
    "<p class=\"story\">...</p>\n",
    "\"\"\"\n"
   ]
  },
  {
   "cell_type": "code",
   "execution_count": 53,
   "id": "58d69a39-ff5c-4d83-94d5-f955244aebf5",
   "metadata": {},
   "outputs": [],
   "source": [
    "soup = BeautifulSoup(html_doc)"
   ]
  },
  {
   "cell_type": "code",
   "execution_count": 55,
   "id": "0d6edf02-7305-40d8-a06f-e12e45952713",
   "metadata": {},
   "outputs": [
    {
     "data": {
      "text/plain": [
       "[<div class=\"title_content_x\">The Dormouse's story 2</div>,\n",
       " <div class=\"title_content_x\">The Dormouse's story 3</div>]"
      ]
     },
     "execution_count": 55,
     "metadata": {},
     "output_type": "execute_result"
    }
   ],
   "source": [
    "soup.span.find_all(\n",
    "    \"div\",\n",
    "    {\"class\": \"title_content_x\"}\n",
    ")"
   ]
  },
  {
   "cell_type": "code",
   "execution_count": 60,
   "id": "7d951a2f-2d76-44f4-8199-9fdbd4f39a3f",
   "metadata": {},
   "outputs": [
    {
     "name": "stdout",
     "output_type": "stream",
     "text": [
      "http://example.com/elsie ['sister'] Elsie\n",
      "http://example.com/lacie ['sister'] Lacie\n",
      "http://example.com/tillie ['sister'] Tillie\n"
     ]
    }
   ],
   "source": [
    "for a in soup.find_all(\"a\"):\n",
    "    print(a[\"href\"], a[\"class\"], a.string)"
   ]
  },
  {
   "cell_type": "code",
   "execution_count": null,
   "id": "7bad2fa4-c464-4550-9a9a-642b184c4ce0",
   "metadata": {},
   "outputs": [],
   "source": []
  }
 ],
 "metadata": {
  "kernelspec": {
   "display_name": "Python 3 (ipykernel)",
   "language": "python",
   "name": "python3"
  },
  "language_info": {
   "codemirror_mode": {
    "name": "ipython",
    "version": 3
   },
   "file_extension": ".py",
   "mimetype": "text/x-python",
   "name": "python",
   "nbconvert_exporter": "python",
   "pygments_lexer": "ipython3",
   "version": "3.8.5"
  }
 },
 "nbformat": 4,
 "nbformat_minor": 5
}
