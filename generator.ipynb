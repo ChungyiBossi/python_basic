{
 "cells": [
  {
   "cell_type": "code",
   "execution_count": 11,
   "id": "a6708776-18d7-4fc7-b84e-6c614eb02f58",
   "metadata": {},
   "outputs": [],
   "source": [
    "def even_generator(number):\n",
    "    i = 2\n",
    "    while (i <= number):\n",
    "        # 執行這個區塊\n",
    "        yield i # 執行完後卡在這裡\n",
    "        i = i + 2\n",
    "        # i += 2\n",
    "        \n",
    "    # 如果stop iteration發生，我就回傳Finish\n",
    "    return \"Finish\"\n"
   ]
  },
  {
   "cell_type": "code",
   "execution_count": 22,
   "id": "6c9b6fd6-ee91-4f15-a76c-842e2f4ebcbc",
   "metadata": {},
   "outputs": [],
   "source": [
    "range_even = range(2, 12, 2)"
   ]
  },
  {
   "cell_type": "code",
   "execution_count": 23,
   "id": "f88b9e94-d616-4cf6-b413-a654f98b7883",
   "metadata": {},
   "outputs": [
    {
     "name": "stdout",
     "output_type": "stream",
     "text": [
      "2\n",
      "4\n",
      "6\n",
      "8\n",
      "10\n"
     ]
    }
   ],
   "source": [
    "for even in range_even:\n",
    "    print(even)"
   ]
  },
  {
   "cell_type": "code",
   "execution_count": 25,
   "id": "b3e1f474-2df8-47bd-8bb3-4cf3a2997619",
   "metadata": {},
   "outputs": [
    {
     "data": {
      "text/plain": [
       "4"
      ]
     },
     "execution_count": 25,
     "metadata": {},
     "output_type": "execute_result"
    }
   ],
   "source": [
    "list_a = [1, 2, 3, 4]\n",
    "len(list_a)"
   ]
  },
  {
   "cell_type": "code",
   "execution_count": 27,
   "id": "d663cfbe-f121-47eb-bbbb-cc69848a414d",
   "metadata": {},
   "outputs": [
    {
     "data": {
      "text/plain": [
       "5"
      ]
     },
     "execution_count": 27,
     "metadata": {},
     "output_type": "execute_result"
    }
   ],
   "source": [
    "len(list(range_even))\n",
    "# len(range_even)"
   ]
  },
  {
   "cell_type": "code",
   "execution_count": null,
   "id": "92434151-2b59-4e4a-a144-be36ae9630d2",
   "metadata": {},
   "outputs": [],
   "source": []
  },
  {
   "cell_type": "code",
   "execution_count": 12,
   "id": "58ea0fa3-6290-4d73-b0ee-503533dce65a",
   "metadata": {},
   "outputs": [],
   "source": [
    "evens = even_generator(10)\n"
   ]
  },
  {
   "cell_type": "code",
   "execution_count": 18,
   "id": "0eb85af8-a04f-4f4e-bbd7-f34666db22d6",
   "metadata": {},
   "outputs": [
    {
     "ename": "StopIteration",
     "evalue": "Finish",
     "output_type": "error",
     "traceback": [
      "\u001b[1;31m---------------------------------------------------------------------------\u001b[0m",
      "\u001b[1;31mStopIteration\u001b[0m                             Traceback (most recent call last)",
      "Input \u001b[1;32mIn [18]\u001b[0m, in \u001b[0;36m<cell line: 1>\u001b[1;34m()\u001b[0m\n\u001b[1;32m----> 1\u001b[0m \u001b[38;5;28mprint\u001b[39m(\u001b[38;5;28;43mnext\u001b[39;49m\u001b[43m(\u001b[49m\u001b[43mevens\u001b[49m\u001b[43m)\u001b[49m)\n",
      "\u001b[1;31mStopIteration\u001b[0m: Finish"
     ]
    }
   ],
   "source": [
    "print(next(evens))"
   ]
  },
  {
   "cell_type": "code",
   "execution_count": null,
   "id": "c254a53a-c46a-4f2a-97ef-9d9131117049",
   "metadata": {},
   "outputs": [],
   "source": []
  }
 ],
 "metadata": {
  "kernelspec": {
   "display_name": "Python 3 (ipykernel)",
   "language": "python",
   "name": "python3"
  },
  "language_info": {
   "codemirror_mode": {
    "name": "ipython",
    "version": 3
   },
   "file_extension": ".py",
   "mimetype": "text/x-python",
   "name": "python",
   "nbconvert_exporter": "python",
   "pygments_lexer": "ipython3",
   "version": "3.8.5"
  }
 },
 "nbformat": 4,
 "nbformat_minor": 5
}
