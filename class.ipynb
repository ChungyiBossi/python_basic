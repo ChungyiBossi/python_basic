{
 "cells": [
  {
   "cell_type": "code",
   "execution_count": 1,
   "id": "b60464b5-877b-401c-8467-a6cafb86fcdc",
   "metadata": {},
   "outputs": [],
   "source": [
    "import abc"
   ]
  },
  {
   "cell_type": "code",
   "execution_count": 9,
   "id": "f93be7b9-7283-4f46-b32e-ef59b2969b97",
   "metadata": {},
   "outputs": [],
   "source": [
    "class Animal(abc.ABC):\n",
    "    def __init__(self, name, gender):\n",
    "        self.name = name\n",
    "        self.gender = gender\n",
    "        \n",
    "    @abc.abstractmethod\n",
    "    def move(self):\n",
    "        pass\n",
    "    \n",
    "    @abc.abstractmethod\n",
    "    def eat(self):\n",
    "        pass\n",
    "    \n",
    "    @abc.abstractmethod\n",
    "    def speak(self):\n",
    "        pass\n",
    "    "
   ]
  },
  {
   "cell_type": "code",
   "execution_count": 10,
   "id": "57bf83ca-4372-44e2-9421-e4448de0a5dc",
   "metadata": {},
   "outputs": [],
   "source": [
    "class Human(Animal):\n",
    "    def __init__(self, name, gender, country):\n",
    "        super().__init__(name, gender)\n",
    "        self.country = country\n",
    "    \n",
    "    def move(self):\n",
    "        print(\"Human Move!\")\n",
    "\n",
    "    def eat(self):\n",
    "        print(\"Human eat!\")\n",
    "        \n",
    "    def speak(self, language):\n",
    "        self.county = language\n",
    "        print(f\"Human Speak {language}!\")\n",
    "    "
   ]
  },
  {
   "cell_type": "code",
   "execution_count": 11,
   "id": "ee0d1bb3-88fe-4c82-ab15-b4b61b0d72e7",
   "metadata": {},
   "outputs": [
    {
     "name": "stdout",
     "output_type": "stream",
     "text": [
      "Human Move!\n",
      "Human Speak Taiwanese!\n"
     ]
    },
    {
     "data": {
      "text/plain": [
       "'Taiwanese'"
      ]
     },
     "execution_count": 11,
     "metadata": {},
     "output_type": "execute_result"
    }
   ],
   "source": [
    "animal = Human(\"Chungyi\", \"MAN\", \"Taiwanese\")\n",
    "animal.move()\n",
    "animal.speak(\"Taiwanese\")\n",
    "animal.county"
   ]
  },
  {
   "cell_type": "code",
   "execution_count": 13,
   "id": "ee9c0fff-b12f-487a-89da-07f17e9cdb12",
   "metadata": {},
   "outputs": [],
   "source": [
    "# animal.__class__.__name__"
   ]
  },
  {
   "cell_type": "code",
   "execution_count": 16,
   "id": "05cecf31-9535-4d94-997b-c4b80cb81b77",
   "metadata": {},
   "outputs": [],
   "source": [
    "class Cat(Animal):\n",
    "    def move(self):\n",
    "        print(\"Cat Move!\")\n",
    "\n",
    "    def eat(self):\n",
    "        print(\"Cat eat fish!\")\n",
    "        \n",
    "    def speak(self):\n",
    "        print(\"Meow Meow Meow\")"
   ]
  },
  {
   "cell_type": "code",
   "execution_count": 17,
   "id": "43b1c3a2-e734-4217-87a9-3d0c2dd4b18d",
   "metadata": {},
   "outputs": [
    {
     "name": "stdout",
     "output_type": "stream",
     "text": [
      "Meow Meow Meow\n"
     ]
    }
   ],
   "source": [
    "cat = Cat(\"Mimi\", \"Girl\")\n",
    "cat.speak()"
   ]
  },
  {
   "cell_type": "code",
   "execution_count": 26,
   "id": "4f3442eb-43dd-47dc-a918-b3ced9018dee",
   "metadata": {},
   "outputs": [],
   "source": [
    "class Dog(Animal):\n",
    "    def move(self):\n",
    "        print(\"Dog Move!\")\n",
    "\n",
    "    def eat(self):\n",
    "        print(\"Dog eat meat!\")        \n",
    "    \n",
    "    def speak(self):\n",
    "        print(\"woof\")"
   ]
  },
  {
   "cell_type": "code",
   "execution_count": 28,
   "id": "a0085319-b35a-424f-a10f-89ec03a1a11f",
   "metadata": {},
   "outputs": [],
   "source": [
    "dog = Dog(\"Black\", \"Boy\")"
   ]
  },
  {
   "cell_type": "code",
   "execution_count": 29,
   "id": "c21726f1-fe3e-45b8-97a5-0f6ae60b1202",
   "metadata": {},
   "outputs": [
    {
     "name": "stdout",
     "output_type": "stream",
     "text": [
      "Dog Move!\n"
     ]
    }
   ],
   "source": [
    "dog.move()"
   ]
  },
  {
   "cell_type": "code",
   "execution_count": null,
   "id": "b065f84d-54cd-4114-8438-0b5f134ead16",
   "metadata": {},
   "outputs": [],
   "source": []
  }
 ],
 "metadata": {
  "kernelspec": {
   "display_name": "Python 3 (ipykernel)",
   "language": "python",
   "name": "python3"
  },
  "language_info": {
   "codemirror_mode": {
    "name": "ipython",
    "version": 3
   },
   "file_extension": ".py",
   "mimetype": "text/x-python",
   "name": "python",
   "nbconvert_exporter": "python",
   "pygments_lexer": "ipython3",
   "version": "3.8.5"
  }
 },
 "nbformat": 4,
 "nbformat_minor": 5
}
