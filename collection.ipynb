{
 "cells": [
  {
   "cell_type": "markdown",
   "id": "874757ac-db8b-4c50-a18a-4dc715e79cb5",
   "metadata": {
    "jp-MarkdownHeadingCollapsed": true,
    "tags": []
   },
   "source": [
    "### Double-end queue"
   ]
  },
  {
   "cell_type": "code",
   "execution_count": 1,
   "id": "0dab32e3-39af-4329-9bb9-f2818ef7bc48",
   "metadata": {},
   "outputs": [],
   "source": [
    "from collections import deque"
   ]
  },
  {
   "cell_type": "code",
   "execution_count": 2,
   "id": "0006c1ba-ef25-43e4-864e-ed531e5bb293",
   "metadata": {},
   "outputs": [],
   "source": [
    "double_end_queue = deque()\n",
    "double_end_queue"
   ]
  },
  {
   "cell_type": "code",
   "execution_count": 6,
   "id": "ce95bc05-5dc2-4390-9634-427fa71215e4",
   "metadata": {},
   "outputs": [
    {
     "data": {
      "text/plain": [
       "deque([1, 1, 2])"
      ]
     },
     "execution_count": 6,
     "metadata": {},
     "output_type": "execute_result"
    }
   ],
   "source": [
    "double_end_queue.append(2)\n",
    "double_end_queue"
   ]
  },
  {
   "cell_type": "code",
   "execution_count": 7,
   "id": "ef15f829-6c2e-4f4d-b2ef-05c82a4b5c82",
   "metadata": {},
   "outputs": [],
   "source": [
    "double_end_queue.appendleft(\"one\") \n",
    "double_end_queue"
   ]
  },
  {
   "cell_type": "code",
   "execution_count": 9,
   "id": "e77522fb-cfd6-45d1-9dd4-31dbb71bb50a",
   "metadata": {},
   "outputs": [
    {
     "data": {
      "text/plain": [
       "deque([1, 1, 2])"
      ]
     },
     "execution_count": 9,
     "metadata": {},
     "output_type": "execute_result"
    }
   ],
   "source": [
    "double_end_queue.popleft()\n",
    "double_end_queue"
   ]
  },
  {
   "cell_type": "code",
   "execution_count": 10,
   "id": "01b1420a-a93b-4765-9ee6-5bab2d71a2c3",
   "metadata": {},
   "outputs": [
    {
     "data": {
      "text/plain": [
       "deque(['three', 'two', 'one', 1, 1, 2])"
      ]
     },
     "execution_count": 10,
     "metadata": {},
     "output_type": "execute_result"
    }
   ],
   "source": [
    "double_end_queue.extendleft([\"one\", \"two\", \"three\"])  # 會倒序合併\n",
    "double_end_queue"
   ]
  },
  {
   "cell_type": "code",
   "execution_count": 11,
   "id": "6fdd70f0-3329-438b-9723-8a5514e4605f",
   "metadata": {},
   "outputs": [],
   "source": [
    "new_queue = [\"four\", \"five\", \"six\"]\n",
    "new_queue.extend(double_end_queue) # 可以使用List的方式操作"
   ]
  },
  {
   "cell_type": "code",
   "execution_count": 12,
   "id": "1061f4ce-8d8f-44c7-91f0-4dc1eaf1f3df",
   "metadata": {},
   "outputs": [
    {
     "data": {
      "text/plain": [
       "['four', 'five', 'six', 'three', 'two', 'one', 1, 1, 2]"
      ]
     },
     "execution_count": 12,
     "metadata": {},
     "output_type": "execute_result"
    }
   ],
   "source": [
    "new_queue"
   ]
  },
  {
   "cell_type": "markdown",
   "id": "e414ffd6-985b-4cc7-a4c6-93c1d5cad003",
   "metadata": {
    "jp-MarkdownHeadingCollapsed": true,
    "tags": []
   },
   "source": [
    "### Counter"
   ]
  },
  {
   "cell_type": "code",
   "execution_count": 13,
   "id": "4a84b627-19b8-4f46-81bc-0fd84ff457c7",
   "metadata": {},
   "outputs": [],
   "source": [
    "from collections import Counter"
   ]
  },
  {
   "cell_type": "code",
   "execution_count": 14,
   "id": "03a0142a-9615-40ac-97dc-fd62fe51b070",
   "metadata": {},
   "outputs": [
    {
     "data": {
      "text/plain": [
       "Counter()"
      ]
     },
     "execution_count": 14,
     "metadata": {},
     "output_type": "execute_result"
    }
   ],
   "source": [
    "counter = Counter()\n",
    "counter"
   ]
  },
  {
   "cell_type": "code",
   "execution_count": 16,
   "id": "b0cc6b9a-b23d-411c-8d77-97500684ba15",
   "metadata": {},
   "outputs": [],
   "source": [
    "counter.update(x) # 可以給任何iterable的物件，另一個Counter也可以\n",
    "counter"
   ]
  },
  {
   "cell_type": "code",
   "execution_count": 18,
   "id": "d67ca732-1801-4c6e-9d60-02025d3bdd67",
   "metadata": {},
   "outputs": [],
   "source": [
    "x = [1, 1, 2, 1, 3, 3, 4, 5, 5, 1, 2]\n",
    "counter_b = Counter(x) # 只要是iterable就可以拿來初始化\n",
    "counter_b"
   ]
  },
  {
   "cell_type": "code",
   "execution_count": 20,
   "id": "87ffd09e-3bff-4f39-87d3-0990a22d7562",
   "metadata": {},
   "outputs": [],
   "source": [
    "counter_b.update(counter)\n",
    "counter_b"
   ]
  },
  {
   "cell_type": "code",
   "execution_count": 22,
   "id": "9b327cfb-d97a-446a-8093-91ac874b4d92",
   "metadata": {},
   "outputs": [],
   "source": [
    "counter_c = Counter(\"abccddeed\")  # document上用的是字串當範例\n",
    "counter_b.update(counter_c)\n",
    "counter_b"
   ]
  },
  {
   "cell_type": "markdown",
   "id": "a100a61d-3a73-4501-ae95-28e0a3cf34fa",
   "metadata": {
    "jp-MarkdownHeadingCollapsed": true,
    "tags": []
   },
   "source": [
    "### Namedtuple"
   ]
  },
  {
   "cell_type": "code",
   "execution_count": 24,
   "id": "84724e92-7ab0-44e0-aeaa-e780b3ceb346",
   "metadata": {},
   "outputs": [],
   "source": [
    "from collections import namedtuple"
   ]
  },
  {
   "cell_type": "code",
   "execution_count": 38,
   "id": "df39f8fd-1016-444a-8201-1d7be5aef5db",
   "metadata": {
    "tags": []
   },
   "outputs": [],
   "source": [
    "# 定義一個新的namedtuple類別\n",
    "threeDPoint = namedtuple(\n",
    "    \"threeDpoint\",  # 類別名字\n",
    "    [\"X\", \"Y\", \"Z\"] # field name\n",
    ")"
   ]
  },
  {
   "cell_type": "code",
   "execution_count": 37,
   "id": "8656daa2-e150-4268-8c31-7acbbb849174",
   "metadata": {
    "tags": []
   },
   "outputs": [
    {
     "data": {
      "text/plain": [
       "threeDpoint(X=1, Y=2, Z=3)"
      ]
     },
     "execution_count": 37,
     "metadata": {},
     "output_type": "execute_result"
    }
   ],
   "source": [
    "# 相較於普通的tuple，提供更多資訊\n",
    "# point_normal_tuple = (1, 2, 3)\n",
    "point_a = threeDPoint(1, 2, 3)\n",
    "point_a"
   ]
  },
  {
   "cell_type": "code",
   "execution_count": 32,
   "id": "18401811-aacd-412e-a3e5-bf9c04c6dc83",
   "metadata": {},
   "outputs": [
    {
     "data": {
      "text/plain": [
       "1"
      ]
     },
     "execution_count": 32,
     "metadata": {},
     "output_type": "execute_result"
    }
   ],
   "source": [
    "# 可以用tuple原始的使用方法\n",
    "point_a[0]"
   ]
  },
  {
   "cell_type": "code",
   "execution_count": 33,
   "id": "0325d2b1-3a9c-4f98-840d-a251c1f29be5",
   "metadata": {},
   "outputs": [
    {
     "data": {
      "text/plain": [
       "1"
      ]
     },
     "execution_count": 33,
     "metadata": {},
     "output_type": "execute_result"
    }
   ],
   "source": [
    "# 也可以用定義好的field name獲取值，程式碼看起來更具可讀性\n",
    "point_a.X, point_a.Y"
   ]
  },
  {
   "cell_type": "markdown",
   "id": "eeda92fc-4282-4365-8a27-572e567307ae",
   "metadata": {
    "jp-MarkdownHeadingCollapsed": true,
    "tags": []
   },
   "source": [
    "### Default Dictionary"
   ]
  },
  {
   "cell_type": "code",
   "execution_count": 39,
   "id": "0334babe-7ffe-422e-b09a-237f4430a1cc",
   "metadata": {
    "tags": []
   },
   "outputs": [],
   "source": [
    "normal_dict = {\n",
    "    \"k\": \"v\"\n",
    "}"
   ]
  },
  {
   "cell_type": "code",
   "execution_count": 40,
   "id": "900c957c-ddd3-4045-8743-24ee0fe8b82c",
   "metadata": {},
   "outputs": [
    {
     "data": {
      "text/plain": [
       "'v'"
      ]
     },
     "execution_count": 40,
     "metadata": {},
     "output_type": "execute_result"
    }
   ],
   "source": [
    "normal_dict[\"k\"]"
   ]
  },
  {
   "cell_type": "code",
   "execution_count": 41,
   "id": "7f7630da-2dc7-4b63-8a2a-aa102f02979e",
   "metadata": {},
   "outputs": [
    {
     "ename": "KeyError",
     "evalue": "'new_k'",
     "output_type": "error",
     "traceback": [
      "\u001b[1;31m---------------------------------------------------------------------------\u001b[0m",
      "\u001b[1;31mKeyError\u001b[0m                                  Traceback (most recent call last)",
      "Input \u001b[1;32mIn [41]\u001b[0m, in \u001b[0;36m<cell line: 1>\u001b[1;34m()\u001b[0m\n\u001b[1;32m----> 1\u001b[0m \u001b[43mnormal_dict\u001b[49m\u001b[43m[\u001b[49m\u001b[38;5;124;43m\"\u001b[39;49m\u001b[38;5;124;43mnew_k\u001b[39;49m\u001b[38;5;124;43m\"\u001b[39;49m\u001b[43m]\u001b[49m\n",
      "\u001b[1;31mKeyError\u001b[0m: 'new_k'"
     ]
    }
   ],
   "source": [
    "normal_dict[\"new_k\"]"
   ]
  },
  {
   "cell_type": "code",
   "execution_count": 42,
   "id": "d67e6d7b-4168-4417-8c3e-3c21565a3de7",
   "metadata": {},
   "outputs": [],
   "source": [
    "from collections import defaultdict"
   ]
  },
  {
   "cell_type": "code",
   "execution_count": 43,
   "id": "9efbc162-ffd6-4475-8bfc-debef3d2845d",
   "metadata": {},
   "outputs": [],
   "source": [
    "df_dict = defaultdict(lambda:\"default-value\")"
   ]
  },
  {
   "cell_type": "code",
   "execution_count": 45,
   "id": "c6cbefc0-2c18-450a-9595-5bedd97a4670",
   "metadata": {},
   "outputs": [],
   "source": [
    "df_dict['k'] = 'v'\n",
    "df_dict"
   ]
  },
  {
   "cell_type": "code",
   "execution_count": 46,
   "id": "48055164-da18-4efc-b39b-0dd58af39e35",
   "metadata": {},
   "outputs": [
    {
     "data": {
      "text/plain": [
       "defaultdict(<function __main__.<lambda>()>, {'k': 'v'})"
      ]
     },
     "execution_count": 46,
     "metadata": {},
     "output_type": "execute_result"
    }
   ],
   "source": []
  },
  {
   "cell_type": "code",
   "execution_count": 47,
   "id": "8e3cefe6-bb89-41a9-9873-04df43192897",
   "metadata": {},
   "outputs": [
    {
     "data": {
      "text/plain": [
       "'default-value'"
      ]
     },
     "execution_count": 47,
     "metadata": {},
     "output_type": "execute_result"
    }
   ],
   "source": [
    "df_dict['new_k']"
   ]
  },
  {
   "cell_type": "code",
   "execution_count": null,
   "id": "491b767c-8c03-43bf-bbcc-990107b960e3",
   "metadata": {},
   "outputs": [],
   "source": []
  },
  {
   "cell_type": "markdown",
   "id": "a90c7e11-dea7-4ff1-9138-bd2ea24d4cec",
   "metadata": {},
   "source": [
    "### Min-Max Namedtuple"
   ]
  },
  {
   "cell_type": "code",
   "execution_count": 1,
   "id": "845d14bf-743e-48d1-b0ce-8c2e7e71156a",
   "metadata": {},
   "outputs": [],
   "source": [
    "# 可依使用者輸入, 創建出兩組set\n",
    "# 聯集與交集\n",
    "# 交集的極值\n",
    "# 把值存放在NamedTuple內, 並印出來"
   ]
  },
  {
   "cell_type": "code",
   "execution_count": 20,
   "id": "d3ab89a3-9c4d-496b-97e7-0b892d3f3219",
   "metadata": {},
   "outputs": [
    {
     "name": "stdin",
     "output_type": "stream",
     "text": [
      "第一組set, 數字用空白隔開 1 2 3 4 4\n"
     ]
    },
    {
     "data": {
      "text/plain": [
       "{1, 2, 3, 4}"
      ]
     },
     "execution_count": 20,
     "metadata": {},
     "output_type": "execute_result"
    }
   ],
   "source": [
    "input_a = input(\"第一組set, 數字用空白隔開\") # 使用者輸入\n",
    "list_a = [int(s) for s in input_a.split()] \n",
    "# 把輸入字串分割成串列 然後轉換成數值 為了確保內容都是數字\n",
    "set_a = set(list_a)\n",
    "# 把串列轉成集合\n",
    "set_a"
   ]
  },
  {
   "cell_type": "code",
   "execution_count": 21,
   "id": "9c29aa59-908d-4e33-903a-f606a79e57d9",
   "metadata": {},
   "outputs": [
    {
     "name": "stdin",
     "output_type": "stream",
     "text": [
      "第二組set, 數字用空白隔開 1 2 3 5 5 \n"
     ]
    },
    {
     "data": {
      "text/plain": [
       "{1, 2, 3, 5}"
      ]
     },
     "execution_count": 21,
     "metadata": {},
     "output_type": "execute_result"
    }
   ],
   "source": [
    "input_b = input(\"第二組set, 數字用空白隔開\")\n",
    "list_b = [int(s) for s in input_b.split()]\n",
    "set_b = set(list_b)\n",
    "set_b"
   ]
  },
  {
   "cell_type": "code",
   "execution_count": 22,
   "id": "d00bb1aa-70c6-4e6d-84f6-a60d5fa6c7bd",
   "metadata": {},
   "outputs": [
    {
     "data": {
      "text/plain": [
       "{1, 2, 3}"
      ]
     },
     "execution_count": 22,
     "metadata": {},
     "output_type": "execute_result"
    }
   ],
   "source": [
    "intersection_ab = set_a.intersection(set_b)\n",
    "intersection_ab"
   ]
  },
  {
   "cell_type": "code",
   "execution_count": 23,
   "id": "b7ce4bcb-fd9b-42d2-9d26-2897be874ebf",
   "metadata": {},
   "outputs": [
    {
     "data": {
      "text/plain": [
       "{1, 2, 3, 4, 5}"
      ]
     },
     "execution_count": 23,
     "metadata": {},
     "output_type": "execute_result"
    }
   ],
   "source": [
    "union_ab = set_a.union(set_b)\n",
    "union_ab"
   ]
  },
  {
   "cell_type": "code",
   "execution_count": 24,
   "id": "cf2b8712-b62c-43d2-96df-df68c99a4acb",
   "metadata": {},
   "outputs": [
    {
     "data": {
      "text/plain": [
       "(set, set)"
      ]
     },
     "execution_count": 24,
     "metadata": {},
     "output_type": "execute_result"
    }
   ],
   "source": [
    "type(intersection_ab), type(union_ab)"
   ]
  },
  {
   "cell_type": "code",
   "execution_count": 25,
   "id": "6c3c4c9f-c7cf-4b39-a2c8-42b26fb12a6c",
   "metadata": {},
   "outputs": [
    {
     "data": {
      "text/plain": [
       "(1, 3)"
      ]
     },
     "execution_count": 25,
     "metadata": {},
     "output_type": "execute_result"
    }
   ],
   "source": [
    "min(intersection_ab), max(intersection_ab)"
   ]
  },
  {
   "cell_type": "code",
   "execution_count": 12,
   "id": "09a3234b-46af-4bdc-be17-0a50c1f1f4e8",
   "metadata": {},
   "outputs": [],
   "source": [
    "# 創 namedtuple\n",
    "from collections import namedtuple\n",
    "extreme_ab = namedtuple(\"extreme_ab\", ['Max', 'Min', 'intersection', 'union'])"
   ]
  },
  {
   "cell_type": "code",
   "execution_count": 13,
   "id": "2f057414-4f1d-44b0-93b5-c0c212dc4552",
   "metadata": {},
   "outputs": [
    {
     "data": {
      "text/plain": [
       "extreme_ab(Max=5, Min=1, intersection={1, 2, 3}, union={1, 2, 3, 4, 5})"
      ]
     },
     "execution_count": 13,
     "metadata": {},
     "output_type": "execute_result"
    }
   ],
   "source": [
    "# 'Max', 'Min', 'intersection', 'union'\n",
    "answer = extreme_ab(\n",
    "    Max=max(union_ab),\n",
    "    Min=min(union_ab),\n",
    "    intersection=intersection_ab,\n",
    "    union=union_ab\n",
    ")\n",
    "answer"
   ]
  },
  {
   "cell_type": "code",
   "execution_count": 26,
   "id": "ce77651c-d3d5-4ea6-bf72-9ca5af6fa1cf",
   "metadata": {},
   "outputs": [
    {
     "data": {
      "text/plain": [
       "5"
      ]
     },
     "execution_count": 26,
     "metadata": {},
     "output_type": "execute_result"
    }
   ],
   "source": [
    "answer.Max"
   ]
  },
  {
   "cell_type": "code",
   "execution_count": 27,
   "id": "9933d87f-c0de-431f-9342-df535f8bfc3a",
   "metadata": {},
   "outputs": [
    {
     "data": {
      "text/plain": [
       "1"
      ]
     },
     "execution_count": 27,
     "metadata": {},
     "output_type": "execute_result"
    }
   ],
   "source": [
    "answer.Min"
   ]
  },
  {
   "cell_type": "code",
   "execution_count": 28,
   "id": "f40f9452-6b7e-4227-94c8-d344e647f7de",
   "metadata": {},
   "outputs": [
    {
     "data": {
      "text/plain": [
       "{1, 2, 3}"
      ]
     },
     "execution_count": 28,
     "metadata": {},
     "output_type": "execute_result"
    }
   ],
   "source": [
    "answer.intersection"
   ]
  },
  {
   "cell_type": "code",
   "execution_count": 29,
   "id": "24f60092-bb9c-4433-9226-ec951d5babf4",
   "metadata": {},
   "outputs": [
    {
     "data": {
      "text/plain": [
       "{1, 2, 3, 4, 5}"
      ]
     },
     "execution_count": 29,
     "metadata": {},
     "output_type": "execute_result"
    }
   ],
   "source": [
    "answer.union"
   ]
  },
  {
   "cell_type": "code",
   "execution_count": null,
   "id": "b0145c0d-18da-44e4-8896-f8b53cbf8134",
   "metadata": {},
   "outputs": [],
   "source": []
  }
 ],
 "metadata": {
  "kernelspec": {
   "display_name": "Python 3 (ipykernel)",
   "language": "python",
   "name": "python3"
  },
  "language_info": {
   "codemirror_mode": {
    "name": "ipython",
    "version": 3
   },
   "file_extension": ".py",
   "mimetype": "text/x-python",
   "name": "python",
   "nbconvert_exporter": "python",
   "pygments_lexer": "ipython3",
   "version": "3.8.5"
  }
 },
 "nbformat": 4,
 "nbformat_minor": 5
}
