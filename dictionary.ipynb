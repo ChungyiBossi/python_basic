{
 "cells": [
  {
   "cell_type": "code",
   "execution_count": 1,
   "id": "0fb31c23-60c3-4620-aa80-3c3d421ed329",
   "metadata": {},
   "outputs": [
    {
     "data": {
      "text/plain": [
       "{}"
      ]
     },
     "execution_count": 1,
     "metadata": {},
     "output_type": "execute_result"
    }
   ],
   "source": [
    "dict_a = dict()\n",
    "dict_a"
   ]
  },
  {
   "cell_type": "code",
   "execution_count": 2,
   "id": "f9e050ff-df9b-4b6c-894e-c518ce371270",
   "metadata": {},
   "outputs": [],
   "source": [
    "dict_a = {\n",
    "    \"key\": \"value\",\n",
    "    \"key2\": \"value2\",\n",
    "    \"key3\": 28,\n",
    "    \"key4\": {\n",
    "        \"kv\": 1,\n",
    "        \"kv2\": 2,\n",
    "        \"kv3\": {\n",
    "            \"kvv\": \"a\"\n",
    "        }\n",
    "    },\n",
    "    5: \"555\"\n",
    "}"
   ]
  },
  {
   "cell_type": "code",
   "execution_count": 4,
   "id": "b29f3eb0-5ecd-46b3-aab1-eb55a9da7747",
   "metadata": {},
   "outputs": [
    {
     "data": {
      "text/plain": [
       "'value2'"
      ]
     },
     "execution_count": 4,
     "metadata": {},
     "output_type": "execute_result"
    }
   ],
   "source": [
    "# list_a[2]\n",
    "dict_a[\"key2\"]"
   ]
  },
  {
   "cell_type": "code",
   "execution_count": 3,
   "id": "384ee891-bd4b-4217-ac8b-2ce9a9de2325",
   "metadata": {},
   "outputs": [
    {
     "data": {
      "text/plain": [
       "{'kv': 1, 'kv2': 2, 'kv3': {'kvv': 'a'}}"
      ]
     },
     "execution_count": 3,
     "metadata": {},
     "output_type": "execute_result"
    }
   ],
   "source": [
    "dict_a[\"key4\"]"
   ]
  },
  {
   "cell_type": "code",
   "execution_count": 4,
   "id": "340e0cd8-9465-455e-af2d-4d62521cf663",
   "metadata": {},
   "outputs": [
    {
     "data": {
      "text/plain": [
       "1"
      ]
     },
     "execution_count": 4,
     "metadata": {},
     "output_type": "execute_result"
    }
   ],
   "source": [
    "dict_a[\"key4\"][\"kv\"]"
   ]
  },
  {
   "cell_type": "code",
   "execution_count": 10,
   "id": "56085cf6-e129-4fc9-befd-ae457bc01b63",
   "metadata": {},
   "outputs": [
    {
     "data": {
      "text/plain": [
       "'555'"
      ]
     },
     "execution_count": 10,
     "metadata": {},
     "output_type": "execute_result"
    }
   ],
   "source": [
    "dict_a[5]"
   ]
  },
  {
   "cell_type": "code",
   "execution_count": 14,
   "id": "e87f5f7f-1ff7-4455-969d-fded1e25f1d5",
   "metadata": {},
   "outputs": [
    {
     "name": "stdout",
     "output_type": "stream",
     "text": [
      "key is:  key\n",
      "val is:  value\n",
      "\n",
      "key is:  key2\n",
      "val is:  value2\n",
      "\n",
      "key is:  key3\n",
      "val is:  28\n",
      "\n",
      "key is:  key4\n",
      "val is:  {'kv': 1, 'kv2': 2, 'kv3': {'kvv': 'a'}}\n",
      "\n",
      "key is:  5\n",
      "val is:  555\n",
      "\n"
     ]
    }
   ],
   "source": [
    "for key, value in dict_a.items():\n",
    "    print(\"key is: \", key)\n",
    "    print(\"val is: \", value)\n",
    "    print()"
   ]
  },
  {
   "cell_type": "code",
   "execution_count": 15,
   "id": "26f2ddda-2fb2-4ae4-ac10-ec475dd5828c",
   "metadata": {},
   "outputs": [
    {
     "data": {
      "text/plain": [
       "dict_keys(['key', 'key2', 'key3', 'key4', 5])"
      ]
     },
     "execution_count": 15,
     "metadata": {},
     "output_type": "execute_result"
    }
   ],
   "source": [
    "dict_a.keys()"
   ]
  },
  {
   "cell_type": "code",
   "execution_count": 16,
   "id": "8ba7a843-a894-4196-99fe-d360c60c1f3f",
   "metadata": {},
   "outputs": [
    {
     "data": {
      "text/plain": [
       "dict_values(['value', 'value2', 28, {'kv': 1, 'kv2': 2, 'kv3': {'kvv': 'a'}}, '555'])"
      ]
     },
     "execution_count": 16,
     "metadata": {},
     "output_type": "execute_result"
    }
   ],
   "source": [
    "dict_a.values()"
   ]
  },
  {
   "cell_type": "code",
   "execution_count": 17,
   "id": "40af2450-5392-4a46-a4d3-123e6334323b",
   "metadata": {},
   "outputs": [],
   "source": [
    "dict_b = {\n",
    "    \"k\": \"v\"\n",
    "}\n",
    "dict_b[\"new_k\"] = \"new_v\""
   ]
  },
  {
   "cell_type": "code",
   "execution_count": 18,
   "id": "9b5eabe9-9914-4313-b914-54894eb9b89e",
   "metadata": {},
   "outputs": [
    {
     "data": {
      "text/plain": [
       "{'k': 'v', 'new_k': 'new_v'}"
      ]
     },
     "execution_count": 18,
     "metadata": {},
     "output_type": "execute_result"
    }
   ],
   "source": [
    "dict_b"
   ]
  },
  {
   "cell_type": "code",
   "execution_count": 19,
   "id": "797fff99-3703-4de2-8fcf-7b720ddbc163",
   "metadata": {},
   "outputs": [],
   "source": [
    "dict_b[\"k\"] = \"changed_v\""
   ]
  },
  {
   "cell_type": "code",
   "execution_count": 20,
   "id": "af3284e8-4af5-4d01-b20d-5d295d776745",
   "metadata": {},
   "outputs": [
    {
     "data": {
      "text/plain": [
       "{'k': 'changed_v', 'new_k': 'new_v'}"
      ]
     },
     "execution_count": 20,
     "metadata": {},
     "output_type": "execute_result"
    }
   ],
   "source": [
    "dict_b"
   ]
  },
  {
   "cell_type": "code",
   "execution_count": 24,
   "id": "35f7c754-5a44-4a11-875e-12146cd1db95",
   "metadata": {},
   "outputs": [
    {
     "data": {
      "text/plain": [
       "{'Andy': {'height': 175, 'weight': 75},\n",
       " 'Tony': {'height': 178, 'weight': 78},\n",
       " 'Judy': {'height': 165, 'weight': 65},\n",
       " 'May': {'height': 160, 'weight': 60}}"
      ]
     },
     "execution_count": 24,
     "metadata": {},
     "output_type": "execute_result"
    }
   ],
   "source": [
    "student_height = [175, 178, 165, 160] #從保健室資料庫\n",
    "student_name = [\"Andy\", \"Tony\", \"Judy\", \"May\"] # 學務處依照座號來\n",
    "# tuples_from_conprehension = [\n",
    "#     (student_height[index], student_name[index]) \n",
    "#     for index in range(len(student_height))\n",
    "# ]\n",
    "\n",
    "dict_from_comprehension = {\n",
    "    student_name[index]: {\n",
    "        \"height\": student_height[index],\n",
    "        \"weight\": student_height[index] - 100\n",
    "    }\n",
    "    for index in range(len(student_height))\n",
    "}\n",
    "\n",
    "dict_from_comprehension"
   ]
  },
  {
   "cell_type": "code",
   "execution_count": 25,
   "id": "17c1efb4-9ca9-4c32-85d7-781d229bb8fb",
   "metadata": {},
   "outputs": [
    {
     "data": {
      "text/plain": [
       "175"
      ]
     },
     "execution_count": 25,
     "metadata": {},
     "output_type": "execute_result"
    }
   ],
   "source": [
    "dict_from_comprehension['Andy']['height']"
   ]
  },
  {
   "cell_type": "code",
   "execution_count": 26,
   "id": "be90d41e-801b-4776-ae4b-8f1c78cd99cc",
   "metadata": {},
   "outputs": [
    {
     "data": {
      "text/plain": [
       "75"
      ]
     },
     "execution_count": 26,
     "metadata": {},
     "output_type": "execute_result"
    }
   ],
   "source": [
    "dict_from_comprehension['Andy']['weight']"
   ]
  },
  {
   "cell_type": "code",
   "execution_count": null,
   "id": "08bf3229-df59-4e75-b547-301048307f26",
   "metadata": {},
   "outputs": [],
   "source": []
  }
 ],
 "metadata": {
  "kernelspec": {
   "display_name": "Python 3 (ipykernel)",
   "language": "python",
   "name": "python3"
  },
  "language_info": {
   "codemirror_mode": {
    "name": "ipython",
    "version": 3
   },
   "file_extension": ".py",
   "mimetype": "text/x-python",
   "name": "python",
   "nbconvert_exporter": "python",
   "pygments_lexer": "ipython3",
   "version": "3.8.5"
  }
 },
 "nbformat": 4,
 "nbformat_minor": 5
}
