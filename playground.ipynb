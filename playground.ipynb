{
 "cells": [
  {
   "cell_type": "code",
   "execution_count": 83,
   "id": "2b8b4fac-bfe7-44fb-9af8-9591bdd0fba3",
   "metadata": {},
   "outputs": [],
   "source": [
    "a = -555\n",
    "b = 400"
   ]
  },
  {
   "cell_type": "code",
   "execution_count": 86,
   "id": "0c40ba9b-2755-4c9d-922e-e0085a918721",
   "metadata": {},
   "outputs": [],
   "source": [
    "a = abs(a)"
   ]
  },
  {
   "cell_type": "code",
   "execution_count": 91,
   "id": "605f07b0-edb7-4a57-aca2-eb068ef53c39",
   "metadata": {},
   "outputs": [],
   "source": [
    "c = max(a, b)\n",
    "d = min(a, b)"
   ]
  },
  {
   "cell_type": "code",
   "execution_count": 92,
   "id": "1442acc9-a14f-4599-ae76-16a08296743f",
   "metadata": {},
   "outputs": [
    {
     "data": {
      "text/plain": [
       "(555, 400, 555, 400)"
      ]
     },
     "execution_count": 92,
     "metadata": {},
     "output_type": "execute_result"
    }
   ],
   "source": [
    "a, b, c, d"
   ]
  },
  {
   "cell_type": "code",
   "execution_count": 93,
   "id": "cc3cbde2-7905-4bb5-b474-fede7417b8b3",
   "metadata": {},
   "outputs": [],
   "source": [
    "x = 123.456"
   ]
  },
  {
   "cell_type": "code",
   "execution_count": 94,
   "id": "f47943de-5955-4232-93b6-41302466bbfa",
   "metadata": {},
   "outputs": [],
   "source": [
    "x = round(x, 2)"
   ]
  },
  {
   "cell_type": "code",
   "execution_count": 97,
   "id": "9335d61e-d49f-42a5-86ae-870480092e66",
   "metadata": {},
   "outputs": [
    {
     "data": {
      "text/plain": [
       "1024"
      ]
     },
     "execution_count": 97,
     "metadata": {},
     "output_type": "execute_result"
    }
   ],
   "source": [
    "2 ** 10"
   ]
  },
  {
   "cell_type": "code",
   "execution_count": null,
   "id": "0e08c04c-afbe-4d9f-b12b-7e2709ab33b7",
   "metadata": {},
   "outputs": [],
   "source": []
  },
  {
   "cell_type": "code",
   "execution_count": null,
   "id": "a4c914d1-2c4e-4901-9b05-58712c5ef3fa",
   "metadata": {},
   "outputs": [],
   "source": []
  },
  {
   "cell_type": "code",
   "execution_count": null,
   "id": "b339aaf5-d723-4261-8f47-e1e4b46dd2e1",
   "metadata": {},
   "outputs": [],
   "source": []
  },
  {
   "cell_type": "code",
   "execution_count": 98,
   "id": "5fe0eea3-d3e6-44c2-9053-bbae400f544e",
   "metadata": {},
   "outputs": [],
   "source": [
    "string_c = \"A B C D E FF G\""
   ]
  },
  {
   "cell_type": "code",
   "execution_count": 99,
   "id": "44060026-c546-455c-8c2b-14a6e0c65eb3",
   "metadata": {},
   "outputs": [],
   "source": [
    "list_c = string_c.split()"
   ]
  },
  {
   "cell_type": "code",
   "execution_count": 100,
   "id": "51fd8c9d-e2ef-4acf-9304-3f20d6441830",
   "metadata": {},
   "outputs": [
    {
     "data": {
      "text/plain": [
       "['A', 'B', 'C', 'D', 'E', 'FF', 'G']"
      ]
     },
     "execution_count": 100,
     "metadata": {},
     "output_type": "execute_result"
    }
   ],
   "source": [
    "list_c"
   ]
  },
  {
   "cell_type": "code",
   "execution_count": null,
   "id": "31cddd6d-2892-4f49-b800-5c72f271f1c0",
   "metadata": {},
   "outputs": [],
   "source": []
  },
  {
   "cell_type": "code",
   "execution_count": 109,
   "id": "ced3de54-fe42-4bb2-b342-7ae6bea54209",
   "metadata": {},
   "outputs": [],
   "source": [
    "list_d = [1, \"2\", 3, [1,2,3] ]"
   ]
  },
  {
   "cell_type": "code",
   "execution_count": 110,
   "id": "bd80dd75-f3f3-4e2b-8079-1c4123271a9c",
   "metadata": {},
   "outputs": [
    {
     "data": {
      "text/plain": [
       "[1, '2', 3, [1, 2, 3], 1, '2', 3, [1, 2, 3]]"
      ]
     },
     "execution_count": 110,
     "metadata": {},
     "output_type": "execute_result"
    }
   ],
   "source": [
    "list_d + list_d"
   ]
  },
  {
   "cell_type": "code",
   "execution_count": null,
   "id": "c82c0db4-f3ed-4a95-a5ca-18d55f69bc47",
   "metadata": {},
   "outputs": [],
   "source": []
  },
  {
   "cell_type": "code",
   "execution_count": 111,
   "id": "0e68843c-f3a7-459e-b750-c33d6f238023",
   "metadata": {},
   "outputs": [],
   "source": [
    "list_e = [5, 3, 2, 7, 8]"
   ]
  },
  {
   "cell_type": "code",
   "execution_count": 113,
   "id": "4c205642-fb54-4b10-8602-a89cc5223dfd",
   "metadata": {},
   "outputs": [
    {
     "data": {
      "text/plain": [
       "[8, 7, 5, 3, 2]"
      ]
     },
     "execution_count": 113,
     "metadata": {},
     "output_type": "execute_result"
    }
   ],
   "source": [
    "sorted(list_e, reverse=True)"
   ]
  },
  {
   "cell_type": "code",
   "execution_count": null,
   "id": "7b3557d3-338b-417a-8458-133d49ca6dd8",
   "metadata": {},
   "outputs": [],
   "source": []
  }
 ],
 "metadata": {
  "kernelspec": {
   "display_name": "Python 3 (ipykernel)",
   "language": "python",
   "name": "python3"
  },
  "language_info": {
   "codemirror_mode": {
    "name": "ipython",
    "version": 3
   },
   "file_extension": ".py",
   "mimetype": "text/x-python",
   "name": "python",
   "nbconvert_exporter": "python",
   "pygments_lexer": "ipython3",
   "version": "3.8.5"
  }
 },
 "nbformat": 4,
 "nbformat_minor": 5
}
